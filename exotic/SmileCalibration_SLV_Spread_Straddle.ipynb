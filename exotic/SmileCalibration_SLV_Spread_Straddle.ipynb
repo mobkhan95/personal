{
 "cells": [
  {
   "cell_type": "markdown",
   "metadata": {
    "hide_input": true
   },
   "source": [
    "### Nonlinear Problems in Finance (MATHGR5400), Columbia University, Spring 2019\n",
    "# Homework IV\n",
    "\n",
    "### Due Date: 11:55 PM Thursday, May 2, 2019\n",
    "You should turn in the notebook at Columbia CourseWorks website\n",
    "\n",
    "Please comment your code properly.\n",
    "\n",
    "Before you turn in the notebook, press the \"Run all cells\" button in the toolbar, and make sure all the calculation results and graphs are produced correctly in a reasonable time frame, and then save the notebook."
   ]
  },
  {
   "cell_type": "markdown",
   "metadata": {
    "hide_input": true
   },
   "source": [
    "<h3 style=\"color:deepskyblue\">Uncertain Volatility Model 1D</h3>\n",
    "\n",
    "The price of a vanilla payoff $g(X_T)$ on a single asset $X_t$ in the uncertain volatility model satisfies the\n",
    "one dimensional Black-Scholes-Barenblatt (BSB) PDE\n",
    "\\begin{align*}\n",
    "\\partial_tu(t,x)+\\frac{1}{2}x^2\\partial_x^2u(t,x)\\Sigma\\left(\\partial_x^2u(t,x)\\right)^2&=0\\\\\n",
    "u(T,x)&=g(x)\n",
    "\\end{align*}\n",
    "where\n",
    "\\begin{equation*}\n",
    "\\Sigma(\\Gamma)=\\left\\{\\begin{array}\\,\n",
    "\\underline{\\sigma} & \\text{ if }\\Gamma<0\\\\ \\overline{\\sigma} & \\text{ if }\\Gamma\\geq 0\\end{array}\\right.\n",
    "\\end{equation*}\n",
    "For the sake of simplicity, we assume zero interest rate and zero dividend and repo.\n",
    "\n",
    "The BSB PDE is a fully nonlinear second order parabolic PDE which has a stochastic representation by second-oder BSDE. We are free to choose the diffusion for $X$; we pick a lognormal dynamics with some constant volatility $\\hat\\sigma$,\n",
    "\n",
    "$$dX_t=\\hat{\\sigma} X_tdW_t$$\n",
    "\n",
    "Two numerical schemes to solve 2-BSDEs are presented below. We first divide $(0, T)$ into $n$ subintervals $(t_{i-1}, t_i)$, $1\\leq i\\leq n$ and set $\\Delta t_i=t_i-t_{i-1}$ and $\\Delta W_{t_i} = W_{t_i} - W_{t_{i-1}}$.\n",
    "\n",
    "<b>Scheme 1</b>\n",
    "\\begin{align*}\n",
    "Y_{t_n}&=g(X_{t_n})\\\\\n",
    "Z_{t_n}&=g'\\left(X_{t_n}\\right)\\\\\n",
    "Y_{t_{i-1}}&=\\mathbb{E}_{i-1}\\left[Y_{t_i}\\right]+\\frac{1}{2}\\Gamma_{t_{i-1}}X_{t_{i-1}}^2\\left(\\Sigma\\left(\\Gamma_{t_{i-1}}\\right)^2-\\hat{\\sigma}^2\\right)\\Delta t_i\\\\\n",
    "Z_{t_{i-1}}&=\\frac{1}{\\Delta t_i\\hat{\\sigma} X_{t_{i-1}}}\\mathbb{E}_{i-1}\\left[Y_{t_i}\\Delta W_{t_i}\\right]\\\\\n",
    "\\Gamma_{t_{i-1}}&=\\frac{1}{\\Delta t_i\\hat{\\sigma} X_{t_{i-1}}}\\mathbb{E}_{i-1}\\left[Z_{t_i}\\Delta W_{t_i}\\right]\n",
    "\\end{align*}\n",
    "\n",
    "In the second scheme, we introduce explicitly the Malliavin weight for the log-normal diffusion with volatility $\\hat{\\sigma}$, so that $\\Gamma$ can be estimated directly from $Y$ without computing $Z$ in the intermediate step. In particular, there is no need to compute the final condition $Z_{t_n}=g'\\left(X_{t_n}\\right)$. This could be useful to handle non-smooth payoffs.\n",
    "\n",
    "<b>Scheme 2</b>\n",
    "\\begin{align*}\n",
    "Y_{t_n}&=g(X_{t_n})\\\\\n",
    "Y_{t_{i-1}}&=\\mathbb{E}_{i-1}\\left[Y_{t_i}\\right]+\\frac{1}{2}\\Gamma_{t_{i-1}}X_{t_{i-1}}^2\\left(\\Sigma\\left(\\Gamma_{t_{i-1}}\\right)^2-\\hat{\\sigma}^2\\right)\\Delta t_i\\\\\n",
    "\\Gamma_{t_{i-1}}&=\\frac{1}{\\left(\\Delta t_i\\hat{\\sigma} X_{t_{i-1}}\\right)^2}\\mathbb{E}_{i-1}\\left[Y_{t_i}\\left(\\Delta W_{t_i}^2-\\Delta t_i\\left(1+\\hat{\\sigma}\\Delta W_{t_i}\\right)\\right)\\right]\n",
    "\\end{align*}"
   ]
  },
  {
   "cell_type": "code",
   "execution_count": 6,
   "metadata": {
    "ExecuteTime": {
     "end_time": "2019-05-05T21:05:56.098129Z",
     "start_time": "2019-05-05T21:05:56.091950Z"
    },
    "collapsed": true
   },
   "outputs": [],
   "source": [
    "% matplotlib inline\n",
    "import matplotlib.pyplot as plt\n",
    "import numpy as np\n",
    "from scipy.stats import norm\n",
    "from scipy.interpolate import interp1d\n",
    "from scipy.interpolate import CubicSpline"
   ]
  },
  {
   "cell_type": "code",
   "execution_count": 12,
   "metadata": {
    "ExecuteTime": {
     "end_time": "2019-05-05T21:08:42.374907Z",
     "start_time": "2019-05-05T21:08:42.362461Z"
    },
    "collapsed": true,
    "hide_input": false
   },
   "outputs": [],
   "source": [
    "def piecewiselinear_fit(xdata, ydata, knots):\n",
    "    \"\"\"\n",
    "    Parameters\n",
    "    ----------\n",
    "    xdata: array_like\n",
    "        The x-coordinates of the data points.\n",
    "    ydata: array_like\n",
    "        The y-coordinates of the data points.\n",
    "    knots: array_like\n",
    "        Knots of the piecewise linear function, must be increasing.\n",
    "    \n",
    "    Returns\n",
    "    -------\n",
    "    res: ndarray\n",
    "        Coefficients of the piecewise linear function\n",
    "    \"\"\"\n",
    "    nknots = len(knots)\n",
    "    diag = np.identity(nknots)\n",
    "    A = np.vstack([np.interp(xdata, knots, diag[i]) for i in range(nknots)]).T\n",
    "    return np.linalg.lstsq(A, ydata)[0]"
   ]
  },
  {
   "cell_type": "markdown",
   "metadata": {},
   "source": [
    "<b style=\"color:darkorange\">Question 1.</b> Consider pricing the call spread $\\frac{100}{K_2-K_1}\\left(\\left(X_T-K_1\\right)^+-\\left(X_T-K_2\\right)^+\\right)$ in the uncertain volatility model, where\n",
    "\n",
    "\\begin{equation*}\n",
    "\\underline{\\sigma}=0.1,\\quad\\overline{\\sigma}=0.2,\\quad X_0=100,\\quad T=1, \\quad K_1 = 90, \\quad K_2 = 110\n",
    "\\end{equation*}\n",
    "\n",
    "For your reference, the true price (from PDE) is $56.0$.\n",
    "\n",
    "<b>(a).</b> An implementation of Scheme 1 outlined above is provided for your convenience.\n",
    "\n",
    "<ul>\n",
    "<li> Experiment with different values of $\\hat\\sigma$, $\\Delta t$, and number of paths. Comment on the results.\n",
    "<li> Describe the region where the gamma is positive (resp. negative).\n",
    "</ul>"
   ]
  },
  {
   "cell_type": "markdown",
   "metadata": {},
   "source": [
    "<b>(b).</b> Implement Scheme 2 outlined above to price the call spread. As in part (a), after you obtain estimates of $x\\mapsto\\Gamma\\left(t_i, x\\right)$ at each discretization time $t_i$, re-simulate a new set of independent paths following the process $dX_t = \\Sigma(\\Gamma(t,X_t))X_tdW_t$ to price the call spread, using more time steps. Compare the results of the two schemes.\n"
   ]
  },
  {
   "cell_type": "markdown",
   "metadata": {},
   "source": [
    "<b>(c).</b> In schemes 1 and 2, the estimations of the conditional expectations for $Z_{t_{i-1}}$ and $\\Gamma_{t_{i-1}}$ may suffer large variances when $\\Delta t_i$ is small. Control variates can be used to reduce the variance. For example, Scheme 2 can be modified as follows\n",
    "\n",
    "<b>Scheme 2a</b>\n",
    "\\begin{align*}\n",
    "Y_{t_n}&=g(X_{t_n})\\\\\n",
    "Y_{t_{i-1}}&=\\mathbb{E}_{i-1}\\left[Y_{t_i}\\right]+\\frac{1}{2}\\Gamma_{t_{i-1}}X_{t_{i-1}}^2\\left(\\Sigma\\left(\\Gamma_{t_{i-1}}\\right)^2-\\hat{\\sigma}^2\\right)\\Delta t_i\\\\\n",
    "\\Gamma_{t_{i-1}}&=\\frac{1}{\\left(\\Delta t_i\\hat{\\sigma} X_{t_{i-1}}\\right)^2}\\mathbb{E}_{i-1}\\left[\\left(Y_{t_i}-\\mathbb{E}_{i-1}\\left[Y_{t_i}\\right]\\right)\\left(\\Delta W_{t_i}^2-\\Delta t_i\\left(1+\\hat{\\sigma}\\Delta W_{t_i}\\right)\\right)\\right]\n",
    "\\end{align*}\n",
    "Note that $Y_{t_i}$ on the right side of the last equation has been replaced by $Y_{t_{i}}-\\mathbb{E}_{i-1}\\left[Y_{t_i}\\right]$.\n",
    "\n",
    "Explain why this replacement does not change the left hand side. Implement Scheme 2a. Do you observe variance reduction?\n",
    "\n",
    "For a justification of Scheme 2a, see the forthcoming written homework."
   ]
  },
  {
   "cell_type": "code",
   "execution_count": 13,
   "metadata": {
    "ExecuteTime": {
     "end_time": "2019-05-05T21:08:48.631656Z",
     "start_time": "2019-05-05T21:08:48.613901Z"
    },
    "collapsed": true,
    "hide_input": false
   },
   "outputs": [],
   "source": [
    "T = 1\n",
    "X0 = 100\n",
    "KL = 90\n",
    "KH = 110\n",
    "volL = 0.1\n",
    "volH = 0.2\n",
    "c = 100./(KH-KL)\n",
    "\n",
    "def g(x):\n",
    "    return c*(np.maximum(x-KL, 0)-np.maximum(x-KH, 0))\n",
    "\n",
    "def Dg(x):\n",
    "    return c*np.asfarray((x >= KL) & (x <= KH))\n",
    "\n",
    "def Sigma(x):\n",
    "    return np.where(x >= 0, volH, volL)"
   ]
  },
  {
   "cell_type": "code",
   "execution_count": 14,
   "metadata": {
    "ExecuteTime": {
     "end_time": "2019-05-05T21:08:51.172666Z",
     "start_time": "2019-05-05T21:08:49.212131Z"
    },
    "hide_input": false
   },
   "outputs": [],
   "source": [
    "# # # Backward induction to compute Sigma # # #\n",
    "nsteps = 12\n",
    "ts = np.linspace(0, T, nsteps+1)\n",
    "nknots = 15\n",
    "vol = 0.2\n",
    "npaths = 5000\n",
    "dW = np.vstack((np.zeros((1, npaths), dtype=np.float),\n",
    "                np.random.randn(nsteps, npaths) * np.sqrt(np.diff(ts))[:, np.newaxis]))\n",
    "#W stores the brownian increments. The ith index is the increment from time t_{i-1} to t_i\n",
    "#so W[0,:] = 0, and isn't an actual increment\n",
    "W = np.cumsum(dW, axis=0)\n",
    "X = np.exp(-0.5*vol**2*ts[:, np.newaxis] + vol*W)*X0\n",
    "\n",
    "\n",
    "xps = np.full((len(ts), nknots), np.nan, dtype=np.float)\n",
    "gps = np.full((len(ts), nknots), np.nan, dtype=np.float)\n",
    "\n",
    "Y = g(X[-1])\n",
    "Z = Dg(X[-1])\n",
    "\n",
    "for i in range(len(ts)-2, 0, -1):\n",
    "    dt = ts[i+1] - ts[i]\n",
    "    #store the knot locations for the ith time at the ith index\n",
    "    xps[i] = np.linspace(np.percentile(X[i], 1), np.percentile(X[i], 99), nknots)\n",
    "    #predict t_{i+1}'s Y value using time t_i's X value\n",
    "    yE = np.interp(X[i], xps[i], piecewiselinear_fit(X[i], Y, xps[i]))\n",
    "    #store predictor of gamma at time t_i \n",
    "    gps[i] = piecewiselinear_fit(X[i], Z*dW[i+1]/(dt*vol*X[i]), xps[i])\n",
    "    #calculate the gamma using regression\n",
    "    G = np.interp(X[i], xps[i], gps[i])\n",
    "    #calculate the delta using regression\n",
    "    Z = np.interp(X[i], xps[i], piecewiselinear_fit(X[i], Y*dW[i+1]/(dt*vol*X[i]), xps[i]))\n",
    "    #calculate t_i's Y value and store it in the vector\n",
    "    Y = yE + dt/2*X[i]**2*G*(Sigma(G)**2-vol**2)\n",
    "\n",
    "dt = ts[1]-ts[0]\n",
    "# in the last step of backward induction, the conditional expectations reduce to the mean values \n",
    "G = np.mean(Z*dW[1]/(dt*vol*X0))\n",
    "volp = Sigma(G)\n",
    "\n",
    "# # # independent simulation to get a lower bound price # # #\n",
    "\n",
    "npaths = 2**15\n",
    "# we use more discretization time steps in this second run to simulate accurately the (nearly) optimal X process\n",
    "nsteps = 400\n",
    "Dt = ts[1]-ts[0]\n",
    "ts_ = np.linspace(0, T, nsteps+1)\n",
    "dW = np.vstack((np.zeros((1, npaths), dtype=np.float),\n",
    "                np.random.randn(nsteps, npaths) * np.sqrt(np.diff(ts_))[:, np.newaxis]))\n",
    "X = np.full((len(ts_), npaths), np.nan, dtype=np.float)\n",
    "X[0] = X0\n",
    "\n",
    "#calculating for all the times that will use the last step vol\n",
    "m = int(round(ts[1]/(ts_[1]-ts_[0])))\n",
    "#goes up to m, so X[m] is known at the end of the for loop\n",
    "for i in range(1, m+1):\n",
    "    dt = ts_[i] - ts_[i-1]\n",
    "    X[i] = X[i-1]*np.exp(-0.5*volp**2*dt+dW[i]*volp)\n",
    "\n",
    "#go through rest of the indices normally    \n",
    "for i in range(m+1, len(ts_)):\n",
    "    dt = ts_[i] - ts_[i-1]\n",
    "    #determine under which gamma regression function the current time step should go\n",
    "    #since we are beginning at m+1 no matter what, the value of j before minusing 1 will be ceil(>)\n",
    "    j = int(np.ceil(ts_[i]/Dt))-1\n",
    "    #estimate the optimal vol for the increment i-1 to i using time i-1's state variable and gamma regression \n",
    "    vols = Sigma(np.interp(X[i-1], xps[j], gps[j]))\n",
    "    #calculate the actual X value at time i using the optimal vol\n",
    "    X[i] = X[i-1]*np.exp(-0.5*vols**2*dt+dW[i]*vols)\n",
    "\n",
    "#print(np.mean(g(X[-1])))"
   ]
  },
  {
   "cell_type": "markdown",
   "metadata": {},
   "source": [
    "#### Q1a.)"
   ]
  },
  {
   "cell_type": "code",
   "execution_count": 15,
   "metadata": {
    "ExecuteTime": {
     "end_time": "2019-05-05T21:08:51.690495Z",
     "start_time": "2019-05-05T21:08:51.252065Z"
    },
    "collapsed": true,
    "hide_input": false
   },
   "outputs": [],
   "source": [
    "def Scheme1(volbs, steps, paths):\n",
    "    nsteps = steps\n",
    "    ts = np.linspace(0, T, nsteps+1)\n",
    "    nknots = 15\n",
    "    vol = volbs\n",
    "    npaths = paths\n",
    "    dW = np.vstack((np.zeros((1, npaths), dtype=np.float),\n",
    "                    np.random.randn(nsteps, npaths) * np.sqrt(np.diff(ts))[:, np.newaxis]))\n",
    "    #W stores the brownian increments. The ith index is the increment from time t_{i-1} to t_i\n",
    "    #so W[0,:] = 0, and isn't an actual increment\n",
    "    W = np.cumsum(dW, axis=0)\n",
    "    X = np.exp(-0.5*vol**2*ts[:, np.newaxis] + vol*W)*X0\n",
    "\n",
    "\n",
    "    xps = np.full((len(ts), nknots), np.nan, dtype=np.float)\n",
    "    gps = np.full((len(ts), nknots), np.nan, dtype=np.float)\n",
    "\n",
    "    Y = g(X[-1])\n",
    "    Z = Dg(X[-1])\n",
    "\n",
    "    for i in range(len(ts)-2, 0, -1):\n",
    "        dt = ts[i+1] - ts[i]\n",
    "        #store the knot locations for the ith time at the ith index\n",
    "        xps[i] = np.linspace(np.percentile(X[i], 1), np.percentile(X[i], 99), nknots)\n",
    "        #predict t_{i+1}'s Y value using time t_i's X value\n",
    "        yE = np.interp(X[i], xps[i], piecewiselinear_fit(X[i], Y, xps[i]))\n",
    "        #store predictor of gamma at time t_i \n",
    "        gps[i] = piecewiselinear_fit(X[i], Z*dW[i+1]/(dt*vol*X[i]), xps[i])\n",
    "        #calculate the gamma using regression\n",
    "        G = np.interp(X[i], xps[i], gps[i])\n",
    "        #calculate the delta using regression\n",
    "        Z = np.interp(X[i], xps[i], piecewiselinear_fit(X[i], Y*dW[i+1]/(dt*vol*X[i]), xps[i]))\n",
    "        #calculate t_i's Y value and store it in the vector\n",
    "        Y = yE + dt/2*X[i]**2*G*(Sigma(G)**2-vol**2)\n",
    "\n",
    "    dt = ts[1]-ts[0]\n",
    "    # in the last step of backward induction, the conditional expectations reduce to the mean values \n",
    "    G = np.mean(Z*dW[1]/(dt*vol*X0))\n",
    "    volp = Sigma(G)\n",
    "\n",
    "    # # # independent simulation to get a lower bound price # # #\n",
    "\n",
    "    npaths = 2**15\n",
    "    # we use more discretization time steps in this second run to simulate accurately the (nearly) optimal X process\n",
    "    nsteps = 400\n",
    "    Dt = ts[1]-ts[0]\n",
    "    ts_ = np.linspace(0, T, nsteps+1)\n",
    "    dW = np.vstack((np.zeros((1, npaths), dtype=np.float),\n",
    "                    np.random.randn(nsteps, npaths) * np.sqrt(np.diff(ts_))[:, np.newaxis]))\n",
    "    X = np.full((len(ts_), npaths), np.nan, dtype=np.float)\n",
    "    X[0] = X0\n",
    "\n",
    "    #calculating for all the times that will use the last step vol\n",
    "    m = int(round(ts[1]/(ts_[1]-ts_[0])))\n",
    "    #goes up to m, so X[m] is known at the end of the for loop\n",
    "    for i in range(1, m+1):\n",
    "        dt = ts_[i] - ts_[i-1]\n",
    "        X[i] = X[i-1]*np.exp(-0.5*volp**2*dt+dW[i]*volp)\n",
    "\n",
    "    #go through rest of the indices normally    \n",
    "    for i in range(m+1, len(ts_)):\n",
    "        dt = ts_[i] - ts_[i-1]\n",
    "        #determine under which gamma regression function the current time step should go\n",
    "        #since we are beginning at m+1 no matter what, the value of j before minusing 1 will be ceil(>)\n",
    "        j = int(np.ceil(ts_[i]/Dt))-1\n",
    "        #estimate the optimal vol for the increment i-1 to i using time i-1's state variable and gamma regression \n",
    "        vols = Sigma(np.interp(X[i-1], xps[j], gps[j]))\n",
    "        #calculate the actual X value at time i using the optimal vol\n",
    "        X[i] = X[i-1]*np.exp(-0.5*vols**2*dt+dW[i]*vols)\n",
    "\n",
    "    return(np.mean(g(X[-1])))"
   ]
  },
  {
   "cell_type": "code",
   "execution_count": 16,
   "metadata": {
    "ExecuteTime": {
     "end_time": "2019-05-05T21:08:53.843803Z",
     "start_time": "2019-05-05T21:08:52.208502Z"
    }
   },
   "outputs": [
    {
     "name": "stdout",
     "output_type": "stream",
     "text": [
      "Scheme 1 Price = 55.04417275669754\n"
     ]
    }
   ],
   "source": [
    "print(\"Scheme 1 Price = {}\".format(Scheme1(.2,12,5000)))"
   ]
  },
  {
   "cell_type": "code",
   "execution_count": 17,
   "metadata": {
    "ExecuteTime": {
     "end_time": "2019-05-05T21:08:55.102475Z",
     "start_time": "2019-05-05T21:08:55.096458Z"
    },
    "collapsed": true
   },
   "outputs": [],
   "source": [
    "xvals = np.linspace(85, 125)\n",
    "G_ = np.full((len(ts), len(xvals)), np.nan, dtype = np.float)\n",
    "for i in range(len(ts)-2, 0, -1):\n",
    "    G_[i] = np.interp(xvals, xps[i], gps[i])"
   ]
  },
  {
   "cell_type": "code",
   "execution_count": 18,
   "metadata": {
    "ExecuteTime": {
     "end_time": "2019-05-05T21:08:57.365858Z",
     "start_time": "2019-05-05T21:08:57.010424Z"
    }
   },
   "outputs": [
    {
     "data": {
      "image/png": "[encoded data removed]",
      "text/plain": [
       "<Figure size 720x504 with 2 Axes>"
      ]
     },
     "metadata": {},
     "output_type": "display_data"
    }
   ],
   "source": [
    "plt.figure(figsize = (10,7))\n",
    "B,D = np.meshgrid( xvals,ts[1:len(ts)-1])\n",
    "plt.contourf(B,D, G_[1:len(ts)-1])\n",
    "plt.colorbar()\n",
    "plt.xlabel('Stock Prices')\n",
    "plt.ylabel('Time')\n",
    "plt.show()"
   ]
  },
  {
   "cell_type": "code",
   "execution_count": 19,
   "metadata": {
    "ExecuteTime": {
     "end_time": "2019-05-05T21:09:00.614561Z",
     "start_time": "2019-05-05T21:09:00.392432Z"
    }
   },
   "outputs": [
    {
     "data": {
      "text/plain": [
       "<matplotlib.collections.PathCollection at 0x7facde2d0a20>"
      ]
     },
     "execution_count": 19,
     "metadata": {},
     "output_type": "execute_result"
    },
    {
     "data": {
      "image/png": "[encoded data removed]",
      "text/plain": [
       "<Figure size 576x504 with 1 Axes>"
      ]
     },
     "metadata": {},
     "output_type": "display_data"
    }
   ],
   "source": [
    "plt.figure(figsize = (8,7))\n",
    "xcor = np.linspace(85, 125, 1000)\n",
    "ycor = g(xcor)\n",
    "plt.xlabel('Stock Prices')\n",
    "plt.ylabel('Payoff')\n",
    "plt.scatter(xcor,ycor)"
   ]
  },
  {
   "cell_type": "markdown",
   "metadata": {},
   "source": [
    "- From the above two figures, we see that the Gamma does not typically change in sign over time for a given stock price. So for very ITM prices, the Gamma stayed negative regardless of the time to expiry, and for very OTM prices the Gamma typically stayed positive. This was a relatively consistent trend, that for higher stock prices the gamma was more and more negative, while for lower stock prices the gamma was positive. This makes sense since for OTM prices, as stock price increases the rate at which the option value will increase with respect to stock price also increases (approaching the sloped positive payoff region). And for already ITM prices, the rate at which the option value increases (for increases in stock price) decreases since the payoff is constant at $100\\text{USD}$. We also see that gamma peaks in absolute value close to maturity (since the option value very closely mimics the payoff so close to expiration), at the $90$ and $110$ dollar regions, the two spots on the payoff diagram where increases in stock price would lead to either a large jump in the rate of change of option price with respect to stock price, or a large drop, respectively. \n",
    "\n",
    "- The region for which the sign of gamma changed over time was surrounding the $100\\text{USD}$ mark, which was also the region that at maturity would lead to a payoff of exactly half the range of the payoff and was in the middle of the sloped payoff region. The gamma switched signs but was still typically close to $0$. This made sense since at this region of the payoff diagram, increases in stock price would not lead to much of a change in the rate at which value was changing."
   ]
  },
  {
   "cell_type": "code",
   "execution_count": 20,
   "metadata": {
    "ExecuteTime": {
     "end_time": "2019-05-05T21:09:22.877361Z",
     "start_time": "2019-05-05T21:09:03.721044Z"
    }
   },
   "outputs": [
    {
     "data": {
      "image/png": "[encoded data removed]",
      "text/plain": [
       "<Figure size 432x288 with 1 Axes>"
      ]
     },
     "metadata": {},
     "output_type": "display_data"
    }
   ],
   "source": [
    "volvals = []\n",
    "for vol in [.05, .1, .15, .25, .3, .4, .5,.6, .7, .8,.9,.95]:\n",
    "    volvals.append(Scheme1(vol, 12, 5000))\n",
    "    \n",
    "fig, ax = plt.subplots()\n",
    "ax.scatter([.05, .1, .15, .25, .3, .4, .5,.6, .7, .8,.9,.95], volvals, alpha=1)\n",
    "ax.set_title(\"Price vs. Vol using Default Time Step and Paths\")\n",
    "ax.grid(True)"
   ]
  },
  {
   "cell_type": "code",
   "execution_count": 21,
   "metadata": {
    "ExecuteTime": {
     "end_time": "2019-05-05T21:09:54.278210Z",
     "start_time": "2019-05-05T21:09:40.573057Z"
    }
   },
   "outputs": [
    {
     "data": {
      "image/png": "[encoded data removed]",
      "text/plain": [
       "<Figure size 432x288 with 1 Axes>"
      ]
     },
     "metadata": {},
     "output_type": "display_data"
    }
   ],
   "source": [
    "pathvals = []\n",
    "for path in [500,1000,2000,3000,4000,7000,10000, 15000]:\n",
    "    pathvals.append(Scheme1(.2, 12, path))\n",
    "    \n",
    "fig, ax = plt.subplots()\n",
    "ax.scatter([500,1000,2000,3000,4000,7000,10000, 15000], pathvals, alpha=1)\n",
    "ax.set_title(\"Price vs. Number of Paths using Default Time Step and Vol\")\n",
    "ax.grid(True)"
   ]
  },
  {
   "cell_type": "code",
   "execution_count": 22,
   "metadata": {
    "ExecuteTime": {
     "end_time": "2019-05-05T21:10:11.065091Z",
     "start_time": "2019-05-05T21:09:54.280931Z"
    }
   },
   "outputs": [
    {
     "data": {
      "image/png": "[encoded data removed]",
      "text/plain": [
       "<Figure size 432x288 with 1 Axes>"
      ]
     },
     "metadata": {},
     "output_type": "display_data"
    }
   ],
   "source": [
    "stepvals = []\n",
    "for step in [12,15,25,40,50,100,150]:\n",
    "   stepvals.append(Scheme1(.2, step,5000))\n",
    "    \n",
    "fig, ax = plt.subplots()\n",
    "ax.scatter([12,15,25,40,50,100,150], stepvals, alpha=1)\n",
    "ax.set_title(\"Price vs. Number of Time Steps using Default Number of Paths and Vol\")\n",
    "ax.grid(True)"
   ]
  },
  {
   "cell_type": "markdown",
   "metadata": {},
   "source": [
    "- The three plots above show how varying the volatility, increment size, and number of paths affected the pricing of the option. The results are what we would expect from how these parameters affect the UVM model using a BSDE numerical scheme.\n",
    "\n",
    "- As the number of paths was increased (using the default vol and time steps), the closer to the true price the result became, but in general, after the initial number of runs was around 5000, there was not a consistent increase in accuracy. This is due to the initial run being used to calculate the regression function, and once there are enough paths to ensure some degree of accuracy, using more and more paths has a diminishing effect. THe independent run, when using more and more paths, also leads to higher accuracy, but again, the randomness of the simulation does not ensure that more paths leads to a more accurate result. \n",
    "\n",
    "- As the time steps were increased/the increment was decreased, the performance of the BSDE scheme plummeted dramatically. This was characteristic of the how the numerical scheme diverges for too small increments. In this case, when the increment was decreased past $1/20$ the performance began to decrease, and as the increments were decreased past that, the price went lower and lower indicating that more paths are needed for using such small time steps.\n",
    "\n",
    "- In the case of the simulation volatility, the best performance was from $20\\%$ to $40\\%$ vols, but the higher vols (even unreasonably so, like $60\\%$ and $70\\%$) usually did not result in huge deviations from the true price. The case of a large error was when $5\\%$ vol was used, which indicates that the initial simulation should be ran with reasonable volatilities so that the BSDE scheme adjustments do not have to be extremely accurate to result in a reasonable value. "
   ]
  },
  {
   "cell_type": "markdown",
   "metadata": {},
   "source": [
    "#### Question 1b.)"
   ]
  },
  {
   "cell_type": "code",
   "execution_count": 23,
   "metadata": {
    "ExecuteTime": {
     "end_time": "2019-05-05T21:10:11.358325Z",
     "start_time": "2019-05-05T21:10:11.067691Z"
    },
    "collapsed": true,
    "hide_input": false
   },
   "outputs": [],
   "source": [
    "def Scheme2():\n",
    "    nsteps = 12\n",
    "    ts = np.linspace(0, T, nsteps+1)\n",
    "    nknots = 15\n",
    "    vol = 0.2\n",
    "    npaths = 5000\n",
    "    #dW stores the brownian increments. The ith index is the increment from time t_{i-1} to t_i\n",
    "    #so dW[0,:] = 0, and isn't an actual increment\n",
    "    dW = np.vstack((np.zeros((1, npaths), dtype=np.float),\n",
    "                    np.random.randn(nsteps, npaths) * np.sqrt(np.diff(ts))[:, np.newaxis]))\n",
    "\n",
    "    W = np.cumsum(dW, axis=0)\n",
    "    X = np.exp(-0.5*vol**2*ts[:, np.newaxis] + vol*W)*X0\n",
    "\n",
    "\n",
    "    xps = np.full((len(ts), nknots), np.nan, dtype=np.float)\n",
    "    gps = np.full((len(ts), nknots), np.nan, dtype=np.float)\n",
    "\n",
    "    Y = g(X[-1])\n",
    "\n",
    "    for i in range(len(ts)-2, 0, -1):\n",
    "        dt = ts[i+1] - ts[i]\n",
    "        #store the knot locations for the ith time at the ith index\n",
    "        xps[i] = np.linspace(np.percentile(X[i], 1), np.percentile(X[i], 99), nknots)\n",
    "        #predict t_{i+1}'s Y value using time t_i's X value\n",
    "        yE = np.interp(X[i], xps[i], piecewiselinear_fit(X[i], Y, xps[i]))\n",
    "        #store predictor of gamma at time t_i \n",
    "        gps[i] = piecewiselinear_fit(X[i], ((Y*((dW[i+1]*dW[i+1]) - (dt*(1 + vol*dW[i+1]))))/((dt*vol*X[i])*(dt*vol*X[i]))), xps[i])\n",
    "        #calculate the gamma using regression\n",
    "        G = np.interp(X[i], xps[i], gps[i])\n",
    "        #calculate t_i's Y value and store it in the vector\n",
    "        Y = yE + dt/2*X[i]**2*G*(Sigma(G)**2-vol**2)\n",
    "\n",
    "    dt = ts[1]-ts[0]\n",
    "    # in the last step of backward induction, the conditional expectations reduce to the mean values \n",
    "    G = np.mean(((Y*((dW[1]*dW[1]) - (dt*(1 + vol*dW[1]))))/((dt*vol*X0)*(dt*vol*X0))))\n",
    "    volp = Sigma(G)\n",
    "\n",
    "    # # # independent simulation to get a lower bound price # # #\n",
    "\n",
    "    npaths = 2**15\n",
    "    # we use more discretization time steps in this second run to simulate accurately the (nearly) optimal X process\n",
    "    nsteps = 400\n",
    "    Dt = ts[1]-ts[0]\n",
    "    ts_ = np.linspace(0, T, nsteps+1)\n",
    "    dW = np.vstack((np.zeros((1, npaths), dtype=np.float),\n",
    "                    np.random.randn(nsteps, npaths) * np.sqrt(np.diff(ts_))[:, np.newaxis]))\n",
    "    X = np.full((len(ts_), npaths), np.nan, dtype=np.float)\n",
    "    X[0] = X0\n",
    "\n",
    "    #calculating for all the times that will use the last step vol\n",
    "    m = int(round(ts[1]/(ts_[1]-ts_[0])))\n",
    "    #goes up to m, so X[m] is known at the end of the for loop\n",
    "    for i in range(1, m+1):\n",
    "        dt = ts_[i] - ts_[i-1]\n",
    "        X[i] = X[i-1]*np.exp(-0.5*volp**2*dt+dW[i]*volp)\n",
    "\n",
    "    #go through rest of the indices normally    \n",
    "    for i in range(m+1, len(ts_)):\n",
    "        dt = ts_[i] - ts_[i-1]\n",
    "        #determine under which gamma regression function the current time step should go\n",
    "        #since we are beginning at m+1 no matter what, the value of j before minusing 1 will be ceil(>)\n",
    "        j = int(np.ceil(ts_[i]/Dt))-1\n",
    "        #estimate the optimal vol for the increment i-1 to i using time i-1's state variable and gamma regression \n",
    "        vols = Sigma(np.interp(X[i-1], xps[j], gps[j]))\n",
    "        #calculate the actual X value at time i using the optimal vol\n",
    "        X[i] = X[i-1]*np.exp(-0.5*vols**2*dt+dW[i]*vols)\n",
    "\n",
    "    return(np.mean(g(X[-1])))"
   ]
  },
  {
   "cell_type": "code",
   "execution_count": 24,
   "metadata": {
    "ExecuteTime": {
     "end_time": "2019-05-05T21:10:13.019178Z",
     "start_time": "2019-05-05T21:10:11.360167Z"
    }
   },
   "outputs": [
    {
     "name": "stdout",
     "output_type": "stream",
     "text": [
      "Scheme 2 Price = 54.200789144952374\n"
     ]
    }
   ],
   "source": [
    "print(\"Scheme 2 Price = {}\".format(Scheme2()))"
   ]
  },
  {
   "cell_type": "markdown",
   "metadata": {},
   "source": [
    "- The price using Scheme 2 was consistently lower than that of using Scheme 1, where the average value using Scheme2 was near $53.5\\text{USD}$, the average value using Scheme 1 was near $55.5\\text{USD}$. The benefit of Scheme2 was mostly a consistent increase in runtime of around $.1$ seconds for $5000$ paths. This increase is larger as the number of paths used increased, and the resulting price using more paths was also more accurate, although still not as accurate as Scheme1 using much fewer paths. There was much higher variance in the resulting prices using Scheme2, so in this particular case, it seems that (all else equal) Scheme 1 was a better choice, but Scheme 2 could be valuable when runtime is essential."
   ]
  },
  {
   "cell_type": "markdown",
   "metadata": {},
   "source": [
    "#### Question 1c.)"
   ]
  },
  {
   "cell_type": "code",
   "execution_count": 25,
   "metadata": {
    "ExecuteTime": {
     "end_time": "2019-05-05T21:10:13.367661Z",
     "start_time": "2019-05-05T21:10:13.021500Z"
    },
    "collapsed": true,
    "hide_input": false
   },
   "outputs": [],
   "source": [
    "def Scheme2a():\n",
    "    nsteps = 12\n",
    "    ts = np.linspace(0, T, nsteps+1)\n",
    "    nknots = 15\n",
    "    vol = 0.2\n",
    "    npaths = 5000\n",
    "    #dW stores the brownian increments. The ith index is the increment from time t_{i-1} to t_i\n",
    "    #so dW[0,:] = 0, and isn't an actual increment\n",
    "    dW = np.vstack((np.zeros((1, npaths), dtype=np.float),\n",
    "                    np.random.randn(nsteps, npaths) * np.sqrt(np.diff(ts))[:, np.newaxis]))\n",
    "\n",
    "    W = np.cumsum(dW, axis=0)\n",
    "    X = np.exp(-0.5*vol**2*ts[:, np.newaxis] + vol*W)*X0\n",
    "\n",
    "\n",
    "    xps = np.full((len(ts), nknots), np.nan, dtype=np.float)\n",
    "    gps = np.full((len(ts), nknots), np.nan, dtype=np.float)\n",
    "\n",
    "    Y = g(X[-1])\n",
    "\n",
    "    for i in range(len(ts)-2, 0, -1):\n",
    "        dt = ts[i+1] - ts[i]\n",
    "        #store the knot locations for the ith time at the ith index\n",
    "        xps[i] = np.linspace(np.percentile(X[i], 1), np.percentile(X[i], 99), nknots)\n",
    "        #predict t_{i+1}'s Y value using time t_i's X value\n",
    "        yE = np.interp(X[i], xps[i], piecewiselinear_fit(X[i], Y, xps[i]))\n",
    "        #store predictor of gamma at time t_i \n",
    "        gps[i] = piecewiselinear_fit(X[i], (((Y - yE)*((dW[i+1]*dW[i+1]) - (dt*(1 + vol*dW[i+1]))))/((dt*vol*X[i])*(dt*vol*X[i]))), xps[i])\n",
    "        #calculate the gamma using regression\n",
    "        G = np.interp(X[i], xps[i], gps[i])\n",
    "        #calculate t_i's Y value and store it in the vector\n",
    "        Y = yE + dt/2*X[i]**2*G*(Sigma(G)**2-vol**2)\n",
    "\n",
    "    dt = ts[1]-ts[0]\n",
    "    # in the last step of backward induction, the conditional expectations reduce to the mean values \n",
    "    G = np.mean(((Y*((dW[1]*dW[1]) - (dt*(1 + vol*dW[1]))))/((dt*vol*X0)*(dt*vol*X0))))\n",
    "    volp = Sigma(G)\n",
    "\n",
    "    # # # independent simulation to get a lower bound price # # #\n",
    "\n",
    "    npaths = 2**15\n",
    "    # we use more discretization time steps in this second run to simulate accurately the (nearly) optimal X process\n",
    "    nsteps = 400\n",
    "    Dt = ts[1]-ts[0]\n",
    "    ts_ = np.linspace(0, T, nsteps+1)\n",
    "    dW = np.vstack((np.zeros((1, npaths), dtype=np.float),\n",
    "                    np.random.randn(nsteps, npaths) * np.sqrt(np.diff(ts_))[:, np.newaxis]))\n",
    "    X = np.full((len(ts_), npaths), np.nan, dtype=np.float)\n",
    "    X[0] = X0\n",
    "\n",
    "    #calculating for all the times that will use the last step vol\n",
    "    m = int(round(ts[1]/(ts_[1]-ts_[0])))\n",
    "    #goes up to m, so X[m] is known at the end of the for loop\n",
    "    for i in range(1, m+1):\n",
    "        dt = ts_[i] - ts_[i-1]\n",
    "        X[i] = X[i-1]*np.exp(-0.5*volp**2*dt+dW[i]*volp)\n",
    "\n",
    "    #go through rest of the indices normally    \n",
    "    for i in range(m+1, len(ts_)):\n",
    "        dt = ts_[i] - ts_[i-1]\n",
    "        #determine under which gamma regression function the current time step should go\n",
    "        #since we are beginning at m+1 no matter what, the value of j before minusing 1 will be ceil(>)\n",
    "        j = int(np.ceil(ts_[i]/Dt))-1\n",
    "        #estimate the optimal vol for the increment i-1 to i using time i-1's state variable and gamma regression \n",
    "        vols = Sigma(np.interp(X[i-1], xps[j], gps[j]))\n",
    "        #calculate the actual X value at time i using the optimal vol\n",
    "        X[i] = X[i-1]*np.exp(-0.5*vols**2*dt+dW[i]*vols)\n",
    "\n",
    "    return(np.mean(g(X[-1])))"
   ]
  },
  {
   "cell_type": "code",
   "execution_count": 26,
   "metadata": {
    "ExecuteTime": {
     "end_time": "2019-05-05T21:10:15.119051Z",
     "start_time": "2019-05-05T21:10:13.370466Z"
    }
   },
   "outputs": [
    {
     "name": "stdout",
     "output_type": "stream",
     "text": [
      "Scheme 2a Price = 55.420502439120774\n"
     ]
    }
   ],
   "source": [
    "print(\"Scheme 2a Price = {}\".format(Scheme2a()))"
   ]
  },
  {
   "cell_type": "code",
   "execution_count": 27,
   "metadata": {
    "ExecuteTime": {
     "end_time": "2019-05-05T21:11:20.634908Z",
     "start_time": "2019-05-05T21:10:15.121384Z"
    },
    "scrolled": true
   },
   "outputs": [
    {
     "name": "stdout",
     "output_type": "stream",
     "text": [
      "Unbiased Sample Variance Estimate for Scheme2 = 0.3217816734479871\n",
      "Unbiased Sample Variance Estimate for Scheme2a = 0.15192259789288212\n",
      "Average of Scheme2 = 53.74425420760126\n",
      "Average of Scheme2a = 54.83605497536347\n"
     ]
    }
   ],
   "source": [
    "#calculating the results of 20 runs\n",
    "Scheme2results = [Scheme2() for i in range(0,20,1)]\n",
    "Scheme2aresults = [Scheme2a() for i in range(0,20,1)]\n",
    "\n",
    "#outputting variance and mean\n",
    "print(\"Unbiased Sample Variance Estimate for Scheme2 = {}\".format(np.var(Scheme2results, ddof=1)))\n",
    "print(\"Unbiased Sample Variance Estimate for Scheme2a = {}\".format(np.var(Scheme2aresults, ddof=1)))\n",
    "print(\"Average of Scheme2 = {}\".format(np.mean(Scheme2results)))\n",
    "print(\"Average of Scheme2a = {}\".format(np.mean(Scheme2aresults)))"
   ]
  },
  {
   "cell_type": "markdown",
   "metadata": {},
   "source": [
    "- The use of the control variate reduced the variance dramatically in this case. The variance using Scheme2a was around .1 while the variance using Scheme2 was around .3. For Scheme2, this meant that the typical deviation in between different valuations was substantial, and this reflected the experience when running Scheme2 manually. Scheme2a also resulted in an average price estimate $1.50\\text{USD}$ closer to the actual than using Scheme2, another benefit of the reduction in variance.\n",
    "\n",
    "- The calculation is unchanged since \n",
    "\\begin{align*}\n",
    "\\mathbb{E}_{i-1}\\left[\\mathbb{E}_{i-1}\\left[Y_{t_i}\\right]\\left(\\Delta W_{t_i}^2-\\Delta t_i\\left(1+\\hat{\\sigma}\\Delta W_{t_i}\\right)\\right)\\right] = \\mathbb{E}_{i-1}\\left[Y_{t_i}\\right]\\cdot \\mathbb{E}_{i-1}\\left[\\Delta W_{t_i}^2-\\Delta t_i\\left(1+\\hat{\\sigma}\\Delta W_{t_i}\\right)\\right] \\\\\n",
    "= \\mathbb{E}_{i-1}\\left[Y_{t_i}\\right]\\cdot \\left(\\mathbb{E}_{i-1}\\left[\\Delta W_{t_i}^2\\right]-\\mathbb{E}_{i-1}\\left[\\Delta t_i \\right]  + \\mathbb{E}_{i-1}\\left[ \\hat{\\sigma}\\Delta W_{t_i}\\right]\\right) = \\mathbb{E}_{i-1}\\left[Y_{t_i}\\right]\\cdot \\left(\\Delta t_i-\\Delta t_i  + 0\\right) = 0\n",
    "\\end{align*}\n",
    "and so a term of $0$ is essentially being added which has no effect on the actual equation, but serves to reduce the variance. "
   ]
  },
  {
   "cell_type": "markdown",
   "metadata": {
    "collapsed": true,
    "hide_input": false
   },
   "source": [
    "<h3 style=\"color:deepskyblue\">The particle Method and Smile Calibration</h3>\n",
    "\n",
    "<b style=\"color:darkorange\">Question 2.</b> Consider the stochastic local volatility (SLV) model\n",
    "\n",
    "$$\n",
    "\\begin{array}{l}\n",
    "dS_t = a_t l(t, S_t) S_t dW^{(1)}_t\\\\\n",
    "a_t=\\sigma_0 e^{Y_t}\\quad\\text{where}\\quad d Y_t = -\\kappa Y_tdt+\\gamma dW^{(2)}_t\\\\\n",
    "d \\langle W^{(1)}, W^{(2)} \\rangle_t = \\rho dt.\n",
    "\\end{array}\n",
    "$$\n",
    "\n",
    "The numerical values for the model parameters are\n",
    "- $T = 1$.\n",
    "- $S_0 = 100$.\n",
    "- $\\sigma_0 = 15\\%$.\n",
    "- $Y_0 = 0$.\n",
    "- $\\rho = -50\\%$.\n",
    "- $\\gamma = 50\\%$.\n",
    "- $\\kappa = 1$.\n",
    "\n",
    "The goal is to find a leverage function $l(t, S)$ so that this model matches the market prices of vanilla options. For the sake of simplicity, we assume that the market implied volatility surface is flat $\\sigma_{\\textrm{Market}} \\equiv 15\\%$. In that case, we also have $\\sigma_{\\textrm{Dup}}(t,S) \\equiv 15\\%$."
   ]
  },
  {
   "cell_type": "markdown",
   "metadata": {
    "collapsed": true,
    "hide_input": false
   },
   "source": [
    "Note that the above SLV model becomes a pure stochastic volatility model when the leverage function is identically equal to 1. Below we describe a Monte Carlo simulation scheme for the pure stochastic volatility model. You can modify it to simulate and calibrate the SLV model.\n",
    "\n",
    "First we discretize the interval $(0,T)$ into subintervals $(t_{i-1}, t_i)$, $1\\leq i\\leq n$, and set $\\Delta t_i=t_i-t_{i-1}$. \n",
    "\n",
    "The Ornstein-Uhlenbeck process $Y$ is explicitly solvable:\n",
    "\\begin{equation}\n",
    "Y_{t_i}=e^{-\\kappa\\Delta t_i}Y_{t_{i-1}}+\\int_{t_{i-1}}^{t_i}\\gamma e^{\\kappa\\left(s-t_i\\right)}dW_s^{(2)}.\n",
    "\\end{equation}\n",
    "\n",
    "Therefore for given $Y_{t_{i-1}}$, $Y_{t_i}$ is a Gaussian variable with \n",
    "\\begin{equation}\\tag{1}\n",
    "\\mathbb{E}\\left[\\left.Y_{t_i}\\right\\vert Y_{t_{i-1}}\\right]=e^{-\\kappa\\Delta t_i}Y_{t_{i-1}},\\quad\n",
    "\\text{var}\\left[\\left.Y_{t_i}\\right\\vert Y_{t_{i-1}}\\right]=\\frac{\\gamma^2}{2\\kappa}\\left(1-e^{-2\\kappa\\Delta t_i}\\right)\n",
    "\\end{equation}\n",
    "\n",
    "so that paths of $Y$ can be simulated exactly.\n",
    "\n",
    "To simualte the spot process $S$, we use the Euler scheme:\n",
    "$$\\log S_{t_i}-\\log S_{t_{i-1}}=-\\frac{1}{2}\\sigma_0^2e^{2Y_{t_{i-1}}}\\Delta t_i+\\sigma_0 e^{Y_{t_{i-1}}}\\int_{t_{i-1}}^{t_i}dW^{(1)}_t$$\n",
    "\n",
    "Thus for given $S_{t_{i-1}}$ and $Y_{t_{i-1}}$, $\\log S_{t_i}$ and $Y_{t_i}$ are jointly Gaussian variables with\n",
    "\n",
    "\\begin{equation}\\tag{2}\n",
    "\\mathbb{E}\\left[\\left.\\log S_{t_i}\\right\\vert S_{t_{i-1}},Y_{t_{i-1}}\\right]=\\log S_{t_{i-1}}-\\frac{1}{2}\\sigma_0^2e^{2Y_{t_{i-1}}}\\Delta t_i,\\quad\\text{Var}\\left[\\left.\\log S_{t_i}\\right\\vert S_{i_{i-1}}, Y_{t_{i-1}}\\right]=\\sigma_0^2e^{2Y_{t_{i-1}}}\\Delta t_i\n",
    "\\end{equation}\n",
    "\n",
    "\\begin{equation}\\tag{3}\n",
    "\\text{Cov}\\left[\\left.Y_{t_i},\\log S_{t_i}\\right\\vert S_{t_{i-1}}, Y_{t_{i-1}}\\right]=\\sigma_0 e^{Y_{t_{i-1}}}\\frac{\\gamma\\rho}{\\kappa}\\left(1-e^{-\\kappa\\Delta t_i}\\right)\n",
    "\\end{equation}\n",
    "\n",
    "Over the time interval $[t_{i-1}, t_i]$, we can advance $\\log S$ and $Y$ by generating Gaussian variables $\\log S_{t_i}$ and $Y_{t_i}$ using equations (1)-(3)."
   ]
  },
  {
   "cell_type": "markdown",
   "metadata": {
    "collapsed": true,
    "hide_input": true
   },
   "source": [
    "# <b>(a).</b> Implementation of the Particle Method.\n",
    "- Implement the particle method studied in class to find the leverage function $l$. For this purpose, you may use the zero-th order non-parametric regression routine provided in the first assignment. We suggest that you use the quartic kernel\n",
    "\n",
    "$$K(x)=(x+1)^2(1-x)^2\\quad\\text{for }-1\\leq x\\leq 1\\quad\\text{and}\\quad0\\quad\\text{ elsewhere}$$\n",
    "\n",
    "together with the bandwidth \n",
    "\n",
    "$$h = \\kappa \\sigma_{\\mathrm{Market}} S_0 \\sqrt{\\max(t_k,0.15)}N^{-0.2}$$\n",
    "\n",
    "at discretization date $t_k$. Make sure to fine-tune the dimensionless bandwidth parameter $\\kappa$. Its order of magnitude is 1.0. Use $\\Delta t = 1/100$, $N=10,000$ paths. Note: In class, we described an acceleration technique that involves sorting the \"particles\" $(S_{t_k},a_{t_k})$ according to the spot value $S_{t_k}$. Since the kernel we have chosen has compact support and is fairly inexpensive to evaluate, you may ignore this acceleration technique here. This means that each estimation of a conditional expectation $\\mathbb{E}\\left[\\left.a_{t_k}^2\\right\\vert S_{t_k}=x\\right]$ (for $x$ in a grid of spot values) involves the ratio of two sums of $N$ terms each.\n",
    "\n",
    "- Check that the resulting model is indeed calibrated to the market implied volatilities $\\sigma_{\\textrm{Market}} \\equiv 15\\%$. To this end, compute estimates of the call prices (maturity $T=1$) in the calibrated model for strikes $70, 80, 90, 100, 110, 120, 130, 140$, and invert the Black-Scholes formula to get the corresponding estimation of the implied volatilities $\\hat\\sigma(T,K)$. To estimate the call prices in the calibrated model, simulate a new set of independent paths with the calibrated leverage function $l$ and $N_2 = 100,000$ paths. For the inversion of the Black-Scholes formula, you can use the function <code>blackscholes_impv</code> provided below.\n",
    "\n",
    "<b>(b).</b> Fix the spot-vol correlation $\\rho = 0\\%$ and mean reversion $\\kappa=1$. We study the impact of volatility of volatility $\\gamma$ on the smile in the pure stochastic volatility model and calibrated leverage function in the SLV model. Perform the following tasks with various values of $\\gamma$. Suggested values of $\\gamma$: $0\\%$, $25\\%$, $50\\%$, $75\\%$.\n",
    "- Recalibrate the leverage function $l(t,S)$ for each $\\gamma$, and plot the calibrated leverage function $l(t, S)$ as a function of the spot value $S$ for a fixed maturity, e.g., $t = T$ with various values of $\\gamma$ in the same graph. Comment on the dependence of the shape of the leverage function on $\\gamma$.\n",
    "- Plot the corresponding smile at maturity $T$ for the pure stochastic volatility model (set the leverage function $l \\equiv 1$) with the various values of $\\gamma$ in the same graph. Comment on the dependence of the shape of the smile on $\\gamma$.\n",
    "\n",
    "<b>(c).</b> Fix the volatility of volatility $\\gamma = 50\\%$ and mean reversion $\\kappa=1$. We study the impact of spot-vol correlation $\\rho$ on the smile in the pure stochastic volatility model and calibrated leverage function in the SLV model. Perform the following tasks with various values of $\\rho$. Suggested values of $\\rho$: $-50\\%$, $0\\%$, $50\\%$.\n",
    "- Recalibrate the leverage function $l(t,S)$ for each $\\rho$, and plot the calibrated leverage function $l(t, S)$ as a function of the spot value $S$ for a fixed maturity, e.g., $t = T$ with various values of $\\rho$ in the same graph. Comment on the dependence of the shape of the leverage function on $\\rho$.\n",
    "- Plot the corresponding smile at maturity $T$ for the pure stochastic volatility model (set the leverage function $l \\equiv 1$) with the various values of $\\rho$ in the same graph. Comment on the dependence of the shape of the smile on $\\rho$.\n",
    "\n",
    "<b>(d).</b> Fix the spot-vol correlation $\\rho = 0\\%$ and volatility of volatility $\\gamma = 50\\%$. We study the impact of mean reversion $\\kappa$ on the smile in the pure stochastic volatility model and calibrated leverage function in the SLV model. Perform the following tasks with various values of $\\kappa$. Suggested values of $\\kappa$: $0.1$, $1$, $10$.\n",
    "- Recalibrate the leverage function $l(t,S)$ for each $\\gamma$, and plot the calibrated leverage function $l(t, S)$ as a function of the spot value $S$ for a fixed maturity, e.g., $t = T$ with various values of $\\gamma$ in the same graph. Comment on the dependence of the shape of the leverage function on $\\kappa$.\n",
    "- Plot the corresponding smile at maturity $T$ for the pure stochastic volatility model (set the leverage function $l \\equiv 1$) with the various values of $\\kappa$ in the same graph. Comment on the dependence of the shape of the smile on $\\kappa$.\n",
    "\n",
    "<b>(e).</b> Consider the forward-starting straddle with payoff\n",
    "\\begin{equation*}\n",
    "\\left\\vert \\frac{S_{T_2}}{S_{T_1}}-1 \\right\\vert\n",
    "\\end{equation*}\n",
    "with $T_1 = T - \\frac{3}{12}$, $T_2 = T$. Use $\\gamma = 100\\%$, $\\rho = -50\\%$ and $\\kappa=1$. Compare the prices of this option in the Black-Scholes model with volatility 15% and in the calibrated SLV model. Comment on the result. Why is it of interest to use stochastic local volatility models for pricing derivatives?"
   ]
  },
  {
   "cell_type": "code",
   "execution_count": 28,
   "metadata": {
    "ExecuteTime": {
     "end_time": "2019-05-05T21:11:20.656155Z",
     "start_time": "2019-05-05T21:11:20.637862Z"
    },
    "collapsed": true,
    "hide_input": false
   },
   "outputs": [],
   "source": [
    "def blackscholes_price(K, T, S, vol, r=0, q=0, callput='call'):\n",
    "    \"\"\"Compute the call/put option price in Black-Scholes model\n",
    "    \n",
    "    Parameters\n",
    "    ----------\n",
    "    K: scalar or array_like\n",
    "        The strike of the option.\n",
    "    T: scalar or array_like\n",
    "        The maturity of the option.\n",
    "    S: scalar or array_like\n",
    "        The spot price of the underlying security.\n",
    "    vol: scalar or array_like\n",
    "        The implied Black-Scholes volatility.\n",
    "    callput: str\n",
    "        Must be either 'call' or 'put'\n",
    "\n",
    "    Returns\n",
    "    -------\n",
    "    price: scalar or array_like\n",
    "        The price of the option.\n",
    "\n",
    "    Examples\n",
    "    --------\n",
    "    >>> blackscholes_price(95, 0.25, 100, 0.2, r=0.05, callput='put')\n",
    "    1.5342604771222823\n",
    "    \"\"\"\n",
    "    F = S*np.exp((r-q)*T)\n",
    "    w = vol**2*T\n",
    "    d1 = (np.log(F/K)+0.5*w)/np.sqrt(w)\n",
    "    d2 = d1 - np.sqrt(w)\n",
    "    callput = callput.lower()\n",
    "    if callput == 'call':\n",
    "        opttype = 1\n",
    "    elif callput == 'put':\n",
    "        opttype = -1\n",
    "    else:\n",
    "        raise ValueError('The value of callput must be either \"call\" or \"put\".')\n",
    "    price = (opttype*F*norm.cdf(opttype*d1)-opttype*K*norm.cdf(opttype*(d2)))*np.exp(-r*T)\n",
    "    return price"
   ]
  },
  {
   "cell_type": "code",
   "execution_count": 29,
   "metadata": {
    "ExecuteTime": {
     "end_time": "2019-05-05T21:11:20.804406Z",
     "start_time": "2019-05-05T21:11:20.658670Z"
    },
    "collapsed": true,
    "hide_input": false
   },
   "outputs": [],
   "source": [
    "# all inputs must be scalar\n",
    "def blackscholes_impv_scalar(K, T, S, value, r=0, q=0, callput='call', tol=1e-6, maxiter=500):\n",
    "    \"\"\"Compute implied vol in Black-Scholes model\n",
    "    \n",
    "    Parameters\n",
    "    ----------\n",
    "    K: scalar\n",
    "        The strike of the option.\n",
    "    T: scalar\n",
    "        The maturity of the option.\n",
    "    S: scalar\n",
    "        The spot price of the underlying security.\n",
    "    value: scalar\n",
    "        The value of the option\n",
    "    callput: str\n",
    "        Must be either 'call' or 'put'\n",
    "\n",
    "    Returns\n",
    "    -------\n",
    "    vol: scalar\n",
    "        The implied vol of the option.\n",
    "    \"\"\"\n",
    "    if (K <= 0) or (T <= 0):\n",
    "        return np.nan\n",
    "    F = S*np.exp((r-q)*T)\n",
    "    K = K/F\n",
    "    value = value*np.exp(r*T)/F\n",
    "    callput = callput.lower()\n",
    "    if callput not in ['call', 'put']:\n",
    "        raise ValueError('The value of \"callput\" must be either \"call\" or \"put\"')\n",
    "    opttype = 1 if callput == 'call' else -1\n",
    "    value -= max(opttype * (1 - K), 0)\n",
    "    if value < 0:\n",
    "        return np.nan\n",
    "    if (value == 0):\n",
    "        return 0\n",
    "    j = 1\n",
    "    p = np.log(K)\n",
    "    if K >= 1:\n",
    "        x0 = np.sqrt(2 * p)\n",
    "        x1 = x0 - (0.5 - K * norm.cdf(-x0) - value) * np.sqrt(2*np.pi)\n",
    "        while (abs(x0 - x1) > tol*np.sqrt(T)) and (j < maxiter):\n",
    "            x0 = x1\n",
    "            d1 = -p/x1+0.5*x1\n",
    "            x1 = x1 - (norm.cdf(d1) - K*norm.cdf(d1-x1)-value)*np.sqrt(2*np.pi)*np.exp(0.5*d1**2)\n",
    "            j += 1\n",
    "        return x1 / np.sqrt(T)\n",
    "    else:\n",
    "        x0 = np.sqrt(-2 * p)\n",
    "        x1 = x0 - (0.5*K-norm.cdf(-x0)-value)*np.sqrt(2*np.pi)/K\n",
    "        while (abs(x0-x1) > tol*np.sqrt(T)) and (j < maxiter):\n",
    "            x0 = x1\n",
    "            d1 = -p/x1+0.5*x1\n",
    "            x1 = x1-(K*norm.cdf(x1-d1)-norm.cdf(-d1)-value)*np.sqrt(2*np.pi)*np.exp(0.5*d1**2)\n",
    "            j += 1\n",
    "        return x1/np.sqrt(T)\n",
    "\n",
    "# vectorized version\n",
    "blackscholes_impv = np.vectorize(blackscholes_impv_scalar, excluded={'callput', 'tol', 'maxiter'})\n",
    "\n",
    "# Example\n",
    "#blackscholes_impv(K=95, T=0.25, S=100, value=7, callput='call')"
   ]
  },
  {
   "cell_type": "code",
   "execution_count": 30,
   "metadata": {
    "ExecuteTime": {
     "end_time": "2019-05-05T21:11:20.834096Z",
     "start_time": "2019-05-05T21:11:20.809823Z"
    },
    "collapsed": true,
    "hide_input": false
   },
   "outputs": [],
   "source": [
    "def quartic_kernel(x):\n",
    "    x = np.clip(x, -1, 1)\n",
    "    return (x+1)**2*(1-x)**2\n",
    "\n",
    "def kern_reg(x, xdata, ydata, bandwidth, kern=quartic_kernel):\n",
    "    \"\"\"Nadaraya-Watson Kernel Regression (Locally weighted average)\n",
    "\n",
    "    Parameters\n",
    "    ----------\n",
    "    x: array_like, one-dimensional\n",
    "        The x-coordinates of the target points\n",
    "    xdata: array_like\n",
    "        The x-coordinates of the data points.\n",
    "    ydata: array_like\n",
    "        The y-coordinates of the data points. \n",
    "    bandwidth: positive scalar\n",
    "        Bandwidth of the kernel\n",
    "    kern: callable\n",
    "        kernel function\n",
    "    \"\"\"\n",
    "    weights = kern((xdata[:, np.newaxis] - x) / bandwidth)\n",
    "    return np.sum(weights * ydata[:, np.newaxis], axis=0) / np.sum(weights, axis=0)\n"
   ]
  },
  {
   "cell_type": "markdown",
   "metadata": {
    "hide_input": false
   },
   "source": [
    "####  Question 2a.)"
   ]
  },
  {
   "cell_type": "code",
   "execution_count": 31,
   "metadata": {
    "ExecuteTime": {
     "end_time": "2019-05-05T21:11:21.512524Z",
     "start_time": "2019-05-05T21:11:20.837457Z"
    },
    "collapsed": true,
    "hide_input": false
   },
   "outputs": [],
   "source": [
    "def SLVmodel(volvol, spotvolcor, reversion, SLV_or_SV = \"SLV\"):\n",
    "    S0 = 100.0\n",
    "    T = 1\n",
    "    vol = .15\n",
    "    rho = spotvolcor\n",
    "    gamma = volvol\n",
    "    kappa = reversion\n",
    "    market_vol = .15\n",
    "    dup_vol = .15\n",
    "\n",
    "    npaths= 10000\n",
    "    nsteps = 100\n",
    "    ts = np.linspace(0, T, nsteps+1)\n",
    "    increment = ts[1] - ts[0]\n",
    "\n",
    "    #Ornstein Uhlenbeck is denoted X and Log S process is denoted Y\n",
    "    XSNRV = np.vstack((np.full((1, npaths), np.nan, dtype=np.float),\n",
    "                    np.random.randn(nsteps, npaths)))\n",
    "\n",
    "    ZSNRV = np.vstack((np.full((1, npaths),np.nan, dtype=np.float),\n",
    "                    np.random.randn(nsteps, npaths)))\n",
    "    Y = np.full_like(XSNRV[0,:], np.nan)\n",
    "    X = np.full_like(XSNRV[0,:], np.nan)\n",
    "    L = np.full_like(XSNRV[0,:], np.nan)\n",
    "\n",
    "    minmaxidx = int(round(.001 * npaths))\n",
    "\n",
    "    #create matrices to store the data from calculating Leverage function for independent runs\n",
    "    #LS =np.full_like(XSNRV, np.nan)\n",
    "    #LA = np.full_like(XSNRV, np.nan)\n",
    "    #Lb = np.full_like(XSNRV[:,0], np.nan)\n",
    "\n",
    "\n",
    "    lev =  np.full_like(XSNRV[:,0], np.nan).tolist()\n",
    "\n",
    "    #initial values\n",
    "    X[:] = 0.0\n",
    "    Y[:]= np.log(S0)\n",
    "    \n",
    "    if SLV_or_SV == \"SLV\":\n",
    "        L[:] = dup_vol / (vol*np.exp(X))\n",
    "    else:\n",
    "        L = 1.0\n",
    "\n",
    "    X_var = ((gamma*gamma / (2 * kappa)) * (1 - np.exp(-2.0 * kappa * increment)))\n",
    "    corr = (((np.sqrt(2.0 / (kappa * increment)) * rho) * np.sqrt(1 - np.exp(-1.0 * kappa * increment))) / np.sqrt(1 + np.exp(-1.0 * kappa * increment)))\n",
    "    #at time i, we calculate the increment from i-1 to i\n",
    "    for i in range(1, nsteps+1,1):\n",
    "        increment = ts[i] - ts[i-1]\n",
    "        bandwidth = 1.5 * S0 * market_vol * np.sqrt(np.maximum(ts[i], 0.15)) * (npaths**(-0.2))\n",
    "        #calculate the random term of the log S process\n",
    "        term = corr * XSNRV[i] + (np.sqrt(1 - corr*corr) * ZSNRV[i])\n",
    "        #calculate the new logS value\n",
    "        Y = (Y) - (0.5*vol*vol*np.exp(2 * X) * (L * L)* increment) + (np.sqrt(increment) *vol*np.exp(X) *L * term)\n",
    "        #Calculate the value of the Ornstein Uhlenbeck\n",
    "        X = (np.exp(-1.0 * kappa* increment) * X) + (np.sqrt(X_var) * XSNRV[i])\n",
    "        if SLV_or_SV == \"SLV\":\n",
    "            #calculate a\n",
    "            a = vol * np.exp(X)\n",
    "            #calculate leverage function for the next time\n",
    "            Nft = int(round(np.maximum(30 * np.sqrt(ts[i]), 15)))\n",
    "            vals = np.linspace((np.exp(Y)[np.exp(Y).argsort()][minmaxidx]),(np.exp(Y)[np.exp(Y).argsort()][-minmaxidx]),Nft)\n",
    "            Ltemp = dup_vol / (np.sqrt(kern_reg(vals, np.exp(Y), a*a, bandwidth)))\n",
    "            vals = vals[~np.isnan(Ltemp)]\n",
    "            Ltemp = Ltemp[~np.isnan(Ltemp)]\n",
    "            lev[i] = CubicSpline(vals, Ltemp, extrapolate=bool)\n",
    "            L = lev[i](np.exp(Y))\n",
    "        else:\n",
    "            L = 1.0\n",
    "        \n",
    "\n",
    "    #independent run\n",
    "    npaths= 100000\n",
    "    nsteps = 100\n",
    "    ts = np.linspace(0, T, nsteps+1)\n",
    "    increment = ts[1] - ts[0]\n",
    "    XSNRV = np.vstack((np.full((1, npaths), np.nan, dtype=np.float),\n",
    "                    np.random.randn(nsteps, npaths)))\n",
    "\n",
    "    ZSNRV = np.vstack((np.full((1, npaths),np.nan, dtype=np.float),\n",
    "                    np.random.randn(nsteps, npaths)))\n",
    "\n",
    "    #initial values\n",
    "    Y = np.full_like(XSNRV[0,:], np.nan)\n",
    "    X = np.full_like(XSNRV[0,:], np.nan)\n",
    "    L = np.full_like(XSNRV[0,:], np.nan)\n",
    "    X[:] = 0.0\n",
    "    Y[:]= np.log(S0)\n",
    "    if SLV_or_SV == \"SLV\":\n",
    "        L[:] = dup_vol / (vol*np.exp(X))\n",
    "    else:\n",
    "        L = 1.0\n",
    "    X_var = ((gamma*gamma / (2 * kappa)) * (1 - np.exp(-2.0 * kappa * increment)))\n",
    "    corr = (((np.sqrt(2.0 / (kappa * increment)) * rho) * np.sqrt(1 - np.exp(-1.0 * kappa * increment))) / np.sqrt(1 + np.exp(-1.0 * kappa * increment)))\n",
    "    #at time i, we calculate the increment from i-1 to i\n",
    "    for i in range(1, nsteps+1,1):\n",
    "        increment = ts[i] - ts[i-1]\n",
    "        #calculate the random term of the log S process\n",
    "        term = corr * XSNRV[i] + (np.sqrt(1 - corr*corr) * ZSNRV[i])\n",
    "        #calculate the new logS value\n",
    "        Y = (Y) - (0.5*vol*vol*np.exp(2 * X) * (L * L)* increment) + (np.sqrt(increment) *vol*np.exp(X) *L * term)\n",
    "        #Calculate the value of the Ornstein Uhlenbeck\n",
    "        X = (np.exp(-1.0 * kappa* increment) * X) + (np.sqrt(X_var) * XSNRV[i])\n",
    "        #calculate leverage function for the next time\n",
    "        if SLV_or_SV == \"SLV\":\n",
    "            L = lev[i](np.exp(Y))\n",
    "        else:\n",
    "            L = 1.0\n",
    "    \n",
    "    return (Y,lev)"
   ]
  },
  {
   "cell_type": "code",
   "execution_count": 32,
   "metadata": {
    "ExecuteTime": {
     "end_time": "2019-05-05T21:12:59.369304Z",
     "start_time": "2019-05-05T21:11:21.514696Z"
    },
    "hide_input": false
   },
   "outputs": [
    {
     "data": {
      "text/html": [
       "<div>\n",
       "<style scoped>\n",
       "    .dataframe tbody tr th:only-of-type {\n",
       "        vertical-align: middle;\n",
       "    }\n",
       "\n",
       "    .dataframe tbody tr th {\n",
       "        vertical-align: top;\n",
       "    }\n",
       "\n",
       "    .dataframe thead th {\n",
       "        text-align: right;\n",
       "    }\n",
       "</style>\n",
       "<table border=\"1\" class=\"dataframe\">\n",
       "  <thead>\n",
       "    <tr style=\"text-align: right;\">\n",
       "      <th></th>\n",
       "      <th>SLV</th>\n",
       "      <th>SV</th>\n",
       "    </tr>\n",
       "  </thead>\n",
       "  <tbody>\n",
       "    <tr>\n",
       "      <th>70</th>\n",
       "      <td>NaN</td>\n",
       "      <td>0.196446</td>\n",
       "    </tr>\n",
       "    <tr>\n",
       "      <th>80</th>\n",
       "      <td>0.147025</td>\n",
       "      <td>0.179443</td>\n",
       "    </tr>\n",
       "    <tr>\n",
       "      <th>90</th>\n",
       "      <td>0.148962</td>\n",
       "      <td>0.166295</td>\n",
       "    </tr>\n",
       "    <tr>\n",
       "      <th>100</th>\n",
       "      <td>0.149208</td>\n",
       "      <td>0.155922</td>\n",
       "    </tr>\n",
       "    <tr>\n",
       "      <th>110</th>\n",
       "      <td>0.148996</td>\n",
       "      <td>0.148175</td>\n",
       "    </tr>\n",
       "    <tr>\n",
       "      <th>120</th>\n",
       "      <td>0.148529</td>\n",
       "      <td>0.142983</td>\n",
       "    </tr>\n",
       "    <tr>\n",
       "      <th>130</th>\n",
       "      <td>0.147624</td>\n",
       "      <td>0.140149</td>\n",
       "    </tr>\n",
       "    <tr>\n",
       "      <th>140</th>\n",
       "      <td>0.145515</td>\n",
       "      <td>0.139460</td>\n",
       "    </tr>\n",
       "  </tbody>\n",
       "</table>\n",
       "</div>"
      ],
      "text/plain": [
       "          SLV        SV\n",
       "70        NaN  0.196446\n",
       "80   0.147025  0.179443\n",
       "90   0.148962  0.166295\n",
       "100  0.149208  0.155922\n",
       "110  0.148996  0.148175\n",
       "120  0.148529  0.142983\n",
       "130  0.147624  0.140149\n",
       "140  0.145515  0.139460"
      ]
     },
     "execution_count": 32,
     "metadata": {},
     "output_type": "execute_result"
    }
   ],
   "source": [
    "def callcalc(strike, vec):\n",
    "    vec = vec[~np.isnan(vec)]\n",
    "    return np.mean(np.maximum(vec - strike, 0))\n",
    "Y = SLVmodel(0.5,-0.5, 1.0)[0]\n",
    "SLVresults = [blackscholes_impv(K=i, T=1, S=100, value=callcalc(i,np.exp(Y)), callput='call') for i in [70,80,90,100,110,120,130,140]]\n",
    "Y = SLVmodel(0.5,-0.5, 1.0, \"Pure SV\")[0]\n",
    "SVresults = [blackscholes_impv(K=i, T=1, S=100, value=callcalc(i,np.exp(Y)), callput='call') for i in [70,80,90,100,110,120,130,140]]\n",
    "\n",
    "import pandas as pd\n",
    "pd.DataFrame(np.vstack((SLVresults, SVresults)), index = [\"SLV\", \"SV\"],columns = [70,80,90,100,110,120,130,140]).transpose()"
   ]
  },
  {
   "cell_type": "markdown",
   "metadata": {
    "hide_input": true
   },
   "source": [
    "- The results from the calibration were extremely accurate, especially when the number of paths simulated was increased for the first and independent runs. The IV implied from the calibrated model prices were nearly $15\\%$ for the strikes of $90,100,110,120$ and was typically around $.3\\%$ off for the $80,130, 140$ strikes. This made sense since the higher strikes were furthest from the starting price and so fewer paths had values in that range and thus the Kernel regression/spline interpolation led to slightly less accurate leverage function values. \n",
    "\n",
    "- For the case of the $70$ strike, there was an issue that the Implied Volatility inversion function led to NaN values for prices less than $30$ and in the few cents range above $30$, the IV ranged from $13\\%$ to $20\\%$ (as shown below). As the price resulting from the model typically has a few cents variability at the least, this meant that some runs returned NaN values, while others returned IVs in the large range possible."
   ]
  },
  {
   "cell_type": "code",
   "execution_count": 33,
   "metadata": {
    "ExecuteTime": {
     "end_time": "2019-05-05T21:13:00.580255Z",
     "start_time": "2019-05-05T21:12:59.385042Z"
    }
   },
   "outputs": [
    {
     "data": {
      "text/plain": [
       "<matplotlib.collections.PathCollection at 0x7faccce46d68>"
      ]
     },
     "execution_count": 33,
     "metadata": {},
     "output_type": "execute_result"
    },
    {
     "data": {
      "image/png": "[encoded data removed]",
      "text/plain": [
       "<Figure size 432x288 with 1 Axes>"
      ]
     },
     "metadata": {},
     "output_type": "display_data"
    }
   ],
   "source": [
    "plt.scatter(np.arange(29.9, 30.25, .01),[blackscholes_impv(K=70, T=1, S=100, value=i, callput='call') for i in np.arange(29.9, 30.25, .01)])"
   ]
  },
  {
   "cell_type": "markdown",
   "metadata": {
    "hide_input": true
   },
   "source": [
    "#### Question 2b.)"
   ]
  },
  {
   "cell_type": "code",
   "execution_count": 34,
   "metadata": {
    "ExecuteTime": {
     "end_time": "2019-05-05T21:22:56.928990Z",
     "start_time": "2019-05-05T21:15:21.612305Z"
    }
   },
   "outputs": [
    {
     "data": {
      "image/png": "[encoded data removed]",
      "text/plain": [
       "<Figure size 1440x504 with 2 Axes>"
      ]
     },
     "metadata": {},
     "output_type": "display_data"
    }
   ],
   "source": [
    "fig,ax = plt.subplots(1,2, figsize = [20,7])\n",
    "volvols =[0.0,0.25,0.5,0.75,1]\n",
    "for volvol in volvols:\n",
    "    ax[0].scatter(np.linspace(70,140,1000), SLVmodel(volvol, 0.0,1.0)[1][-1](np.linspace(70,140,1000)), label = \"{}\".format(volvol))\n",
    "    Y = SLVmodel(volvol,0, 1.0, \"Pure SV\")[0]\n",
    "    SVresults = [blackscholes_impv(K=i, T=1, S=100, value=callcalc(i,np.exp(Y)), callput='call') for i in np.linspace(70,140,1000)]\n",
    "    ax[1].scatter(np.linspace(70,140,1000), SVresults, label = \"{}\".format(volvol))\n",
    "\n",
    "names = [[\"SLV\", \"Leverage Function\"], [\"Pure SV\", \"Implied Volatility\"]]\n",
    "for i in [0,1]:\n",
    "    ax[i].legend(title = \"Volvols\" ,loc=0)\n",
    "    ax[i].set_title(\"{} for t = T using {}\".format(names[i][1], names[i][0]))\n",
    "    ax[i].set_xlabel(\"Stock Prices\")\n",
    "    ax[i].set_ylabel(\"{} Value\".format(names[i][1]))"
   ]
  },
  {
   "cell_type": "markdown",
   "metadata": {},
   "source": [
    "- In all the graphs of Leverage Function vs Price (using SLV) and IV vs. Price (using SV), there are some general patterns that result from the requirement that for calibration the leverage function has to equal ratio of the market smile to the square root of the conditional expectation of the $a_t$ term in the stock price dynamics. This means that, in general (especially when close to maturity), the two charts will be providing similar information. When the IV of the SV model is such that the market smile is exactly matched, then the leverage function will be $1$ for all strikes as the SV model incorporates the market smile properly without need for adjustment. As the implied volatility increases from the market value, the leverage function acts as a scale factor, scaling down the overall volatility in order to fulfill the condition for calibration. This is why when there is 'smile' in the IV chart using SV, there is 'frown' in the SLV chart.\n",
    "\n",
    "- In general, the increase in volvol meant that the variance/volatility of the stock price would increase and therefore the likelihood of stock prices further from the time $0$ price is higher and thus there is larger IV as one moves away from the ATM price. This trend is seen throughout, as the larger values for volvol not only increases the degree of the smile but also increases the IV across all strikes as well. "
   ]
  },
  {
   "cell_type": "markdown",
   "metadata": {},
   "source": [
    "#### Question 2c.)"
   ]
  },
  {
   "cell_type": "code",
   "execution_count": 35,
   "metadata": {
    "ExecuteTime": {
     "end_time": "2019-05-05T21:27:50.777358Z",
     "start_time": "2019-05-05T21:22:56.948363Z"
    },
    "hide_input": false
   },
   "outputs": [
    {
     "data": {
      "image/png": "[encoded data removed]",
      "text/plain": [
       "<Figure size 1440x504 with 2 Axes>"
      ]
     },
     "metadata": {},
     "output_type": "display_data"
    }
   ],
   "source": [
    "fig,ax = plt.subplots(1,2, figsize = [20,7])\n",
    "spotvolcorrs =[-0.5, 0, 0.5]\n",
    "for spotvolcorr in spotvolcorrs:\n",
    "    ax[0].scatter(np.linspace(70,140,1000), SLVmodel(0.5, spotvolcorr, 1.0)[1][-1](np.linspace(70,140,1000)), label = \"{}\".format(spotvolcorr))\n",
    "    Y = SLVmodel(0.5,spotvolcorr, 1.0, \"Pure SV\")[0]\n",
    "    SVresults = [blackscholes_impv(K=i, T=1, S=100, value=callcalc(i,np.exp(Y)), callput='call') for i in np.linspace(70,140,1000)]\n",
    "    ax[1].scatter(np.linspace(70,140,1000), SVresults, label = \"{}\".format(spotvolcorr))\n",
    "\n",
    "names = [[\"SLV\", \"Leverage Function\"], [\"Pure SV\", \"Implied Volatility\"]]\n",
    "for i in [0,1]:\n",
    "    ax[i].legend(title = \"Spot Vol Corrs\", loc=0)\n",
    "    ax[i].set_title(\"{} for t = T using {}\".format(names[i][1], names[i][0]))\n",
    "    ax[i].set_xlabel(\"Stock Prices\")\n",
    "    ax[i].set_ylabel(\"{} Value\".format(names[i][1]))"
   ]
  },
  {
   "cell_type": "markdown",
   "metadata": {},
   "source": [
    "- The leverage function and IV charts show the same corresponding pattern as discussed earlier when the spot-vol correlation is varied. When there was no correlation between the spot price and the vol, the leverage function is 'frowning' and the IV is 'smiling', which corresponds to the fact that when there is no correlation there is no particularly likelihood of the spot and vol moving in similar directions, and thus the overall effect is that moving ATM leads to increases in IV. In the case of negative correlation, and upward swing in stock prices would be more likely accompanied by a drop in the vol, and so IV is low for larger strikes and high for lower strikes. This is also seen in the leverage function curve, where the value is $>1$ at the highest strikes in order to have the calibration to $15\\%$ market smile. When there is positive correlation, the upward swings would likely be accompanied by increases in vol, and therefore the IV is upward sloping as strikes increase.  "
   ]
  },
  {
   "cell_type": "markdown",
   "metadata": {},
   "source": [
    "#### Question 2d.)"
   ]
  },
  {
   "cell_type": "code",
   "execution_count": 36,
   "metadata": {
    "ExecuteTime": {
     "end_time": "2019-05-05T21:32:50.339017Z",
     "start_time": "2019-05-05T21:27:50.784208Z"
    }
   },
   "outputs": [
    {
     "data": {
      "image/png": "[encoded data removed]",
      "text/plain": [
       "<Figure size 1440x504 with 2 Axes>"
      ]
     },
     "metadata": {},
     "output_type": "display_data"
    }
   ],
   "source": [
    "fig,ax = plt.subplots(1,2, figsize = [20,7])\n",
    "reversions =[0.1,1.0, 10.0]\n",
    "for reversion in reversions:\n",
    "    ax[0].scatter(np.linspace(70,140,1000), SLVmodel(0.5, 0, reversion)[1][-1](np.linspace(70,140,1000)), label = \"{}\".format(reversion))\n",
    "    Y = SLVmodel(0.5,0, reversion, \"Pure SV\")[0]\n",
    "    SVresults = [blackscholes_impv(K=i, T=1, S=100, value=callcalc(i,np.exp(Y)), callput='call') for i in np.linspace(70,140,1000)]\n",
    "    ax[1].scatter(np.linspace(70,140,1000), SVresults, label = \"{}\".format(reversion))\n",
    "\n",
    "names = [[\"SLV\", \"Leverage Function\"], [\"Pure SV\", \"Implied Volatility\"]]\n",
    "for i in [0,1]:\n",
    "    ax[i].legend(title = \"Reversions\", loc=0)\n",
    "    ax[i].set_title(\"{} for t = T using {}\".format(names[i][1], names[i][0]))\n",
    "    ax[i].set_xlabel(\"Stock Prices\")\n",
    "    ax[i].set_ylabel(\"{} Value\".format(names[i][1]))"
   ]
  },
  {
   "cell_type": "markdown",
   "metadata": {},
   "source": [
    "- The same pattern between the leverage function and IV charts is present in this case as well. When the mean reversion speed is very large, the volvol is more quickly moving towards $0$ and thus the result is that the $a_t$ term is closer to the initial vol, which is also the correct market smile in this case, and so the leverage function and IV are flat and $1$ and $15\\%$ respectively. In the case of the slower mean reversions, we see that the volvol has a much larger impact on the stock price dynamics, and therefore (in the case of 0 correlation) leads to the smile in the IV and frown in the leverage functions, with the effect decreasing as the mean reversion speed increases."
   ]
  },
  {
   "cell_type": "markdown",
   "metadata": {},
   "source": [
    "#### Question 2e.)"
   ]
  },
  {
   "cell_type": "code",
   "execution_count": 39,
   "metadata": {
    "ExecuteTime": {
     "end_time": "2019-05-05T21:36:17.456108Z",
     "start_time": "2019-05-05T21:36:15.779794Z"
    },
    "collapsed": true
   },
   "outputs": [],
   "source": [
    "def SLV_straddle(SLV_or_SV = \"SLV\"):\n",
    "    S0 = 100.0\n",
    "    T = 1\n",
    "    vol = .15\n",
    "    rho = -0.5\n",
    "    gamma = 1\n",
    "    kappa = 1\n",
    "    market_vol = .15\n",
    "    dup_vol = .15\n",
    "\n",
    "    npaths= 10000\n",
    "    nsteps = 100\n",
    "    ts = np.linspace(0, T, nsteps+1)\n",
    "    increment = ts[1] - ts[0]\n",
    "\n",
    "    #Ornstein Uhlenbeck is denoted X and Log S process is denoted Y\n",
    "    XSNRV = np.vstack((np.full((1, npaths), np.nan, dtype=np.float),\n",
    "                    np.random.randn(nsteps, npaths)))\n",
    "\n",
    "    ZSNRV = np.vstack((np.full((1, npaths),np.nan, dtype=np.float),\n",
    "                    np.random.randn(nsteps, npaths)))\n",
    "    Y = np.full_like(XSNRV[0,:], np.nan)\n",
    "    X = np.full_like(XSNRV[0,:], np.nan)\n",
    "    L = np.full_like(XSNRV[0,:], np.nan)\n",
    "\n",
    "    minmaxidx = int(round(.001 * npaths))\n",
    "\n",
    "\n",
    "    lev =  np.full_like(XSNRV[:,0], np.nan).tolist()\n",
    "    #initial values\n",
    "    X[:] = 0.0\n",
    "    Y[:]= np.log(S0)\n",
    "    L[:] = dup_vol / (vol*np.exp(X))\n",
    "\n",
    "    X_var = ((gamma*gamma / (2 * kappa)) * (1 - np.exp(-2.0 * kappa * increment)))\n",
    "    corr = (((np.sqrt(2.0 / (kappa * increment)) * rho) * np.sqrt(1 - np.exp(-1.0 * kappa * increment))) / np.sqrt(1 + np.exp(-1.0 * kappa * increment)))\n",
    "    #at time i, we calculate the increment from i-1 to i\n",
    "    for i in range(1, nsteps+1,1):\n",
    "        increment = ts[i] - ts[i-1]\n",
    "        bandwidth = 1.5 * S0 * market_vol * np.sqrt(np.maximum(ts[i], 0.15)) * (npaths**(-0.2))\n",
    "        #calculate the random term of the log S process\n",
    "        term = corr * XSNRV[i] + (np.sqrt(1 - corr*corr) * ZSNRV[i])\n",
    "        #calculate the new logS value\n",
    "        Y = (Y) - (0.5*vol*vol*np.exp(2 * X) * (L * L)* increment) + (np.sqrt(increment) *vol*np.exp(X) *L * term)\n",
    "        #Calculate the value of the Ornstein Uhlenbeck\n",
    "        X = (np.exp(-1.0 * kappa* increment) * X) + (np.sqrt(X_var) * XSNRV[i])\n",
    "        #calculate a\n",
    "        a = vol * np.exp(X)\n",
    "        #calculate leverage function for the next time\n",
    "        Nft = int(round(np.maximum(30 * np.sqrt(ts[i]), 15)))\n",
    "        vals = np.linspace((np.exp(Y)[np.exp(Y).argsort()][minmaxidx]),(np.exp(Y)[np.exp(Y).argsort()][-minmaxidx]),Nft)\n",
    "        Ltemp = dup_vol / (np.sqrt(kern_reg(vals, np.exp(Y), a*a, bandwidth)))\n",
    "        vals = vals[~np.isnan(Ltemp)]\n",
    "        Ltemp = Ltemp[~np.isnan(Ltemp)]\n",
    "        lev[i] = CubicSpline(vals, Ltemp, extrapolate=bool)\n",
    "        L = lev[i](np.exp(Y))\n",
    "\n",
    "    #independent run\n",
    "    npaths= 100000\n",
    "    nsteps = 100\n",
    "    ts = np.linspace(0, T, nsteps+1)\n",
    "    increment = ts[1] - ts[0]\n",
    "    #locate T1\n",
    "    t1idx = int(np.where(ts == 0.75)[0])\n",
    "\n",
    "    XSNRV = np.vstack((np.full((1, npaths), np.nan, dtype=np.float),\n",
    "                    np.random.randn(nsteps, npaths)))\n",
    "\n",
    "    ZSNRV = np.vstack((np.full((1, npaths),np.nan, dtype=np.float),\n",
    "                    np.random.randn(nsteps, npaths)))\n",
    "\n",
    "    #Black Scholes Calcs\n",
    "    BSdW = np.vstack((np.zeros((1, npaths), dtype=np.float), (ZSNRV[1:] * np.sqrt(np.diff(ts))[:, np.newaxis])))\n",
    "    BSW = np.cumsum(BSdW, axis=0)\n",
    "    BSY = -0.5*vol**2*ts[:, np.newaxis] + (vol*BSW) + np.log(S0)\n",
    "\n",
    "    #initial values\n",
    "    t1Y = np.full_like(XSNRV[0,:], np.nan)\n",
    "    Y = np.full_like(XSNRV[0,:], np.nan)\n",
    "    X = np.full_like(XSNRV[0,:], np.nan)\n",
    "    L = np.full_like(XSNRV[0,:], np.nan)\n",
    "    X[:] = 0.0\n",
    "    Y[:]= np.log(S0)\n",
    "    if SLV_or_SV == \"SLV\":\n",
    "        L[:] = dup_vol / (vol*np.exp(X))\n",
    "    else:\n",
    "        L = 1.0\n",
    "    X_var = ((gamma*gamma / (2 * kappa)) * (1 - np.exp(-2.0 * kappa * increment)))\n",
    "    corr = (((np.sqrt(2.0 / (kappa * increment)) * rho) * np.sqrt(1 - np.exp(-1.0 * kappa * increment))) / np.sqrt(1 + np.exp(-1.0 * kappa * increment)))\n",
    "    #at time i, we calculate the increment from i-1 to i\n",
    "    for i in range(1, nsteps+1,1):\n",
    "        increment = ts[i] - ts[i-1]\n",
    "        #calculate the random term of the log S process\n",
    "        term = corr * XSNRV[i] + (np.sqrt(1 - corr*corr) * ZSNRV[i])\n",
    "        #calculate the new logS value\n",
    "        Y = (Y) - (0.5*vol*vol*np.exp(2 * X) * (L * L)* increment) + (np.sqrt(increment) *vol*np.exp(X) *L * term)\n",
    "        if i == t1idx:\n",
    "            t1Y = Y\n",
    "        #Calculate the value of the Ornstein Uhlenbeck\n",
    "        X = (np.exp(-1.0 * kappa* increment) * X) + (np.sqrt(X_var) * XSNRV[i])\n",
    "        #calculate leverage function for the next time\n",
    "        if SLV_or_SV == \"SLV\":\n",
    "            L = lev[i](np.exp(Y))\n",
    "        else:\n",
    "            L = 1.0\n",
    "    \n",
    "    return(t1Y,Y, BSY)"
   ]
  },
  {
   "cell_type": "code",
   "execution_count": 43,
   "metadata": {
    "ExecuteTime": {
     "end_time": "2019-05-05T21:37:20.369272Z",
     "start_time": "2019-05-05T21:37:13.922090Z"
    }
   },
   "outputs": [
    {
     "name": "stderr",
     "output_type": "stream",
     "text": [
      "/home/terminal_1/anaconda3/envs/pyfinance/lib/python3.6/site-packages/ipykernel_launcher.py:22: RuntimeWarning: invalid value encountered in true_divide\n"
     ]
    },
    {
     "data": {
      "text/html": [
       "<div>\n",
       "<style scoped>\n",
       "    .dataframe tbody tr th:only-of-type {\n",
       "        vertical-align: middle;\n",
       "    }\n",
       "\n",
       "    .dataframe tbody tr th {\n",
       "        vertical-align: top;\n",
       "    }\n",
       "\n",
       "    .dataframe thead th {\n",
       "        text-align: right;\n",
       "    }\n",
       "</style>\n",
       "<table border=\"1\" class=\"dataframe\">\n",
       "  <thead>\n",
       "    <tr style=\"text-align: right;\">\n",
       "      <th></th>\n",
       "      <th>Straddle Price</th>\n",
       "    </tr>\n",
       "  </thead>\n",
       "  <tbody>\n",
       "    <tr>\n",
       "      <th>Pure SV</th>\n",
       "      <td>0.073727</td>\n",
       "    </tr>\n",
       "    <tr>\n",
       "      <th>SLV</th>\n",
       "      <td>0.054917</td>\n",
       "    </tr>\n",
       "    <tr>\n",
       "      <th>BS</th>\n",
       "      <td>0.059862</td>\n",
       "    </tr>\n",
       "  </tbody>\n",
       "</table>\n",
       "</div>"
      ],
      "text/plain": [
       "         Straddle Price\n",
       "Pure SV        0.073727\n",
       "SLV            0.054917\n",
       "BS             0.059862"
      ]
     },
     "execution_count": 43,
     "metadata": {},
     "output_type": "execute_result"
    }
   ],
   "source": [
    "def forward_straddle(t1vec,t2vec):\n",
    "    t1vec = t1vec[~(np.exp(t2vec) == 0)]\n",
    "    t2vec = t2vec[~(np.exp(t2vec) == 0)]\n",
    "    return np.mean(np.abs((np.exp(t2vec)/np.exp(t1vec))- 1.0))\n",
    "t1idx = 75\n",
    "Prices = []\n",
    "t1Y,Y,_ = SLV_straddle(\"Pure SV\")\n",
    "Prices.append(forward_straddle(t1Y,Y))\n",
    "t1Y,Y,BSY = SLV_straddle()\n",
    "Prices.append(forward_straddle(t1Y,Y))\n",
    "Prices.append(forward_straddle(BSY[t1idx],BSY[-1]))\n",
    "pd.DataFrame(Prices, columns = [\"Straddle Price\"], index = [\"Pure SV\", \"SLV\", \"BS\"])"
   ]
  },
  {
   "cell_type": "markdown",
   "metadata": {},
   "source": [
    "- The Pure SV model lead to the highest price of $\\approx 0.0737\\text{USD}$, the SLV to the lowest $\\approx 0.0543\\text{USD}$, and the BS model to a price of $0.0598\\text{USD}$. The BS model price can be calculated using Monte Carlo or using the sum of the cost of a put and a call, both with time to maturity $\\frac{3}{12}$, strike $1$ and written on an asset of cost $1$. \n",
    "\n",
    "- For a forward starting straddle, the cost of the option is essentially the conditional expectation, at time $0$, of the cost of the straddle, at time $\\frac{9}{12}$, written on an asset of cost $1$ and strike $1$. So in the BS model, the volatility in constant and the expected price of the option is the just the time $\\frac{9}{12}$ cost discounted to time $0$. But in the other models, the cost is not exactly that value since the future volatility is unknown. So the Pure SV model takes into account the stochasticity of the volatility and the larger likelihood of a larger payoff, and therefore the final cost is the highest of all the models. The SLV is calibrated to the market prices across all strikes and maturities, and thus incorporates the term structure of implied volatility, along with stochasticity in the volatility. In this case, given the flat term structure, the leverage function is constantly less than one and leads to the lowest price. \n",
    "\n",
    "- Using the SLV model is therefore useful since it allows for the model to be calibrated to the true market prices, and so it actually 'does its job' of attempting to model the options prices in the market. The SV model is not typically calibrated since it would require many more parameters, and so the model, although it incorporates the empirical observation that there is a volvol, it does not realistically reflect the current market prices. In addition, the hedging and pricing of exotic options is done using market IVs and therefore a model that incorporates the market smile is beneficial in making sure risk management is done appropriately. "
   ]
  }
 ],
 "metadata": {
  "anaconda-cloud": {},
  "kernelspec": {
   "display_name": "Python 3",
   "language": "python",
   "name": "python3"
  },
  "language_info": {
   "codemirror_mode": {
    "name": "ipython",
    "version": 3
   },
   "file_extension": ".py",
   "mimetype": "text/x-python",
   "name": "python",
   "nbconvert_exporter": "python",
   "pygments_lexer": "ipython3",
   "version": "3.6.7"
  },
  "toc": {
   "base_numbering": 1,
   "nav_menu": {
    "height": "200px",
    "width": "290px"
   },
   "number_sections": true,
   "sideBar": true,
   "skip_h1_title": false,
   "title_cell": "Table of Contents",
   "title_sidebar": "Contents",
   "toc_cell": false,
   "toc_position": {
    "height": "calc(100% - 180px)",
    "left": "10px",
    "top": "150px",
    "width": "173px"
   },
   "toc_section_display": true,
   "toc_window_display": true
  },
  "varInspector": {
   "cols": {
    "lenName": 16,
    "lenType": 16,
    "lenVar": 40
   },
   "kernels_config": {
    "python": {
     "delete_cmd_postfix": "",
     "delete_cmd_prefix": "del ",
     "library": "var_list.py",
     "varRefreshCmd": "print(var_dic_list())"
    },
    "r": {
     "delete_cmd_postfix": ") ",
     "delete_cmd_prefix": "rm(",
     "library": "var_list.r",
     "varRefreshCmd": "cat(var_dic_list()) "
    }
   },
   "oldHeight": 704,
   "position": {
    "height": "726px",
    "left": "1155px",
    "right": "20px",
    "top": "4px",
    "width": "698px"
   },
   "types_to_exclude": [
    "module",
    "function",
    "builtin_function_or_method",
    "instance",
    "_Feature"
   ],
   "varInspector_section_display": "block",
   "window_display": false
  }
 },
 "nbformat": 4,
 "nbformat_minor": 1
}
