{
 "cells": [
  {
   "cell_type": "markdown",
   "metadata": {},
   "source": [
    "### Nonlinear Problems in Finance (MATHGR5400), Columbia University, Spring 2019\n",
    "# Homework II\n",
    "\n",
    "### Due Date: 11:55 PM Tuesday, March 12, 2019\n",
    "You should turn in the notebook at Columbia CourseWorks website\n",
    "\n",
    "Please comment your code properly.\n",
    "\n",
    "Before you turn in the notebook, press the \"Run all cells\" button in the toolbar, and make sure all the calculation results and graphs are produced correctly in a reasonable time frame, and then save the notebook."
   ]
  },
  {
   "cell_type": "code",
   "execution_count": 1,
   "metadata": {
    "collapsed": true
   },
   "outputs": [],
   "source": [
    "%matplotlib inline\n",
    "import itertools\n",
    "import scipy\n",
    "import math\n",
    "import matplotlib.pyplot as plt\n",
    "import numpy as np\n",
    "from scipy.special import laguerre\n",
    "from scipy.interpolate import interp1d\n",
    "from scipy.stats import norm\n",
    "plt.rc('figure', figsize=(6, 5))\n",
    "plt.rc('axes', grid=True, xmargin=0, ymargin=0, autolimit_mode='round_numbers')"
   ]
  },
  {
   "cell_type": "code",
   "execution_count": 2,
   "metadata": {
    "collapsed": true
   },
   "outputs": [],
   "source": [
    "def blackscholes_mc(S=100, vol=0.2, r=0, q=0, ts=np.linspace(0, 1, 13), npaths=10):\n",
    "    \"\"\"Generate Monte-Carlo paths in Black-Scholes model.\n",
    "\n",
    "    Parameters\n",
    "    ----------\n",
    "    S: scalar\n",
    "        The spot price of the underlying security.\n",
    "    vol: scalar\n",
    "        The implied Black-Scholes volatility.\n",
    "    r: scalar\n",
    "        The annualized risk-free interest rate, continuously compounded.\n",
    "    q: scalar\n",
    "        The annualized continuous dividend yield.\n",
    "    ts: array_like\n",
    "        The time steps of the simualtion\n",
    "    npaths: int\n",
    "        the number of paths to simulate\n",
    "\n",
    "    Returns\n",
    "    -------\n",
    "    paths: ndarray\n",
    "        The Monte-Carlo paths.\n",
    "    \"\"\"\n",
    "    nsteps = len(ts) - 1\n",
    "    ts = np.asfarray(ts)[:, np.newaxis]\n",
    "    W = np.cumsum(np.vstack((np.zeros((1, npaths), dtype=np.float),\n",
    "                             np.random.randn(nsteps, npaths) * np.sqrt(np.diff(ts, axis=0)))),\n",
    "                  axis=0)\n",
    "    paths = np.exp(-0.5*vol**2*ts + vol*W)*S*np.exp((r-q)*ts)\n",
    "    return paths\n",
    "\n",
    "\n",
    "def blackscholes_price(K, T, S, vol, r=0, q=0, callput='call'):\n",
    "    \"\"\"Compute the call/put option price in the Black-Scholes model\n",
    "    \n",
    "    Parameters\n",
    "    ----------\n",
    "    K: scalar or array_like\n",
    "        The strike of the option.\n",
    "    T: scalar or array_like\n",
    "        The maturity of the option, expressed in years (e.g. 0.25 for 3-month and 2 for 2 years)\n",
    "    S: scalar or array_like\n",
    "        The current price of the underlying asset.\n",
    "    vol: scalar or array_like\n",
    "        The implied Black-Scholes volatility.\n",
    "    r: scalar or array_like\n",
    "        The annualized risk-free interest rate, continuously compounded.\n",
    "    q: scalar or array_like\n",
    "        The annualized continuous dividend yield.\n",
    "    callput: str\n",
    "        Must be either 'call' or 'put'.\n",
    "\n",
    "    Returns\n",
    "    -------\n",
    "    price: scalar or array_like\n",
    "        The price of the option.\n",
    "\n",
    "    Examples\n",
    "    --------\n",
    "    >>> blackscholes_price(95, 0.25, 100, 0.2, r=0.05, callput='put')\n",
    "    1.5342604771222823\n",
    "    \"\"\"\n",
    "    F = S*np.exp((r-q)*T)\n",
    "    v = np.sqrt(vol**2*T)\n",
    "    d1 = np.log(F/K)/v + 0.5*v\n",
    "    d2 = d1 - v\n",
    "    try:\n",
    "        opttype = {'call':1, 'put':-1}[callput.lower()]\n",
    "    except:\n",
    "        raise ValueError('The value of callput must be either \"call\" or \"put\".')\n",
    "    price = opttype*(F*norm.cdf(opttype*d1)-K*norm.cdf(opttype*d2))*np.exp(-r*T)\n",
    "    return price"
   ]
  },
  {
   "cell_type": "markdown",
   "metadata": {},
   "source": [
    "# Dual Problem and Upper Bounds for American Options"
   ]
  },
  {
   "cell_type": "markdown",
   "metadata": {},
   "source": [
    "<strong>Primal Problem</strong> (maximizing over stopping times)\n",
    "\n",
    "\\begin{equation*}\n",
    "V_t=\\sup_{\\tau\\in\\mathcal{T}_{t, T}}\\mathbb{E}^\\mathbb{Q}\\left[D_{t, \\tau}F_{\\tau}\\big|\\mathcal{F}_t\\right]\n",
    "\\end{equation*}\n",
    "\n",
    "<strong>Dual Problem</strong> (minimizing over martingales) [Rogers 2002; Haugh and Kogan 2004]\n",
    "\n",
    "\\begin{equation*}\n",
    "V_t=\\inf_{M\\in\\mathcal{M}_{t, 0}}\\mathbb{E}^\\mathbb{Q}\\left[\\sup_{t\\leq s\\leq T}\\left(D_{t, s}F_s-M_s\\right)\\bigg|\\mathcal{F}_t\\right].\n",
    "\\end{equation*}\n",
    "\n",
    "where $\\mathcal{M}_{t, 0}$ denotes the set of all right-continuous martingales $(M_s, s\\in[t, T])$ with $M_t=0$.\n",
    "The optimal martingale $M^{\\ast}$ is the martingale part of the Doob-Meyer decomposition of $(S_s-S_t)/D_{0, t}$, $t\\leq s\\leq T$, where $S$ is the Snell envelope of the discounted payoff, i.e., $S_t=\\sup_{\\tau\\in\\mathcal{T}_{t,T}}\\mathbb{E}^{\\mathbb{Q}}\\left[D_{0,\\tau}F_{\\tau}\\right]$.\n",
    "\n",
    "In particular, any martingale $M_s$ with $M_0=0$ gives an upper bound for the price at time 0, $V_0$:\n",
    "\n",
    "$$V_0 \\leq\\mathbb{E}^{\\mathbb{Q}}\\left[\\sup_{0\\leq s\\leq T}\\left(D_sF_s-M_s\\right)\\right].$$"
   ]
  },
  {
   "cell_type": "markdown",
   "metadata": {},
   "source": [
    "<b style=\"color:darkorange\">Question 1.</b> Consider pricing a one-year Bermudan put option with monthly exercise, where the asset price process is assumed to follow geometric Brownian motion with $S_0=100$, $\\sigma=0.2$, $r=0.1$, $q=0.02$, $K=100$ and exercise dates $t_1=\\frac{1}{12}$, $t_2=\\frac{2}{12}$, $\\cdots$, $t_{12}=1$.\n",
    "\n",
    "Simulate 100,000 paths and use the following martingale to find a upper bound.\n",
    "\n",
    "(a). $M_t\\equiv0$.\n",
    "\n",
    "(b). $M_t$ is the discounted European put price with the same final maturity less the initial price.\n",
    "\n",
    "For your reference, the price of the option is $5.152$."
   ]
  },
  {
   "cell_type": "markdown",
   "metadata": {},
   "source": [
    "#### Question 1a."
   ]
  },
  {
   "cell_type": "code",
   "execution_count": 3,
   "metadata": {},
   "outputs": [
    {
     "data": {
      "text/plain": [
       "8.61688506743941"
      ]
     },
     "execution_count": 3,
     "metadata": {},
     "output_type": "execute_result"
    }
   ],
   "source": [
    "S = 100\n",
    "vol = 0.2\n",
    "r = 0.1\n",
    "q = 0.02\n",
    "K = 100\n",
    "T = 1\n",
    "ts = np.linspace(0, 1, 13)\n",
    "npaths = 100000\n",
    "\n",
    "#generate 100000 independent paths and remove time 0 \n",
    "paths = np.delete(blackscholes_mc(S, vol, r, q, ts=ts, npaths=100000),0, axis = 0)\n",
    "\n",
    "#calculate discounted payoff at all times and paths, then calculate the max for each path, then take average\n",
    "np.mean(np.amax(np.exp(-r * (ts[1:] - ts[0]))[:,np.newaxis] * np.maximum(K-paths, 0), axis = 0))"
   ]
  },
  {
   "cell_type": "markdown",
   "metadata": {},
   "source": [
    "#### Question 1b."
   ]
  },
  {
   "cell_type": "code",
   "execution_count": 4,
   "metadata": {},
   "outputs": [
    {
     "name": "stderr",
     "output_type": "stream",
     "text": [
      "/home/terminal_1/anaconda3/envs/pyfinance/lib/python3.6/site-packages/ipykernel_launcher.py:65: RuntimeWarning: divide by zero encountered in true_divide\n"
     ]
    },
    {
     "data": {
      "text/plain": [
       "5.348760683621992"
      ]
     },
     "execution_count": 4,
     "metadata": {},
     "output_type": "execute_result"
    }
   ],
   "source": [
    "S = 100\n",
    "vol = 0.2\n",
    "r = 0.1\n",
    "q = 0.02\n",
    "K = 100\n",
    "T = 1\n",
    "ts = np.linspace(0, 1, 13)\n",
    "npaths = 100000\n",
    "\n",
    "#generate 100000 independent paths\n",
    "paths = blackscholes_mc(S, vol, r, q, ts=ts, npaths=100000)\n",
    "\n",
    "#evaluate European put prices\n",
    "arr = np.array([blackscholes_price(K, T - ts[i],paths[i] , vol=0.2, r=0.1, q=0.02, callput='put') for i in range(1,len(paths))])\n",
    "\n",
    "#calculate payoff less Euro put at all times and paths, then discount to get discounted payoff less the discounted martingale/european price\n",
    "arr = np.exp(-r * (ts[1:] - ts[0]))[:,np.newaxis] * (np.maximum(K-paths[1:], 0) - arr)\n",
    "\n",
    "#add initial value back in\n",
    "arr = (arr + blackscholes_price(K, T, paths[0] , vol=0.2, r=0.1, q=0.02, callput='put'))\n",
    "\n",
    "#calculate max for each path then take average\n",
    "np.mean(np.amax(arr, axis = 0))"
   ]
  },
  {
   "cell_type": "markdown",
   "metadata": {},
   "source": [
    "## Optimal martingale\n",
    "\n",
    "The optimal martingale that gives zero <em>duality gap</em> is the martingale component of the discounted true value process (known as Snell envelope) $\\frac{V_t}{D_{0,t}}$, following the optimal exercise strategy.\n",
    "\n",
    "To get a good upper bound, we first find a value process that is close to the true value process, and then extract its martingale component. This approximate value process can be obtained from a functional approximation such as regression, or from an exercise strategy (stopping time).\n",
    "\n",
    "In general, for a stochastic process $\\{U_n\\}_{n\\geq0}$, to extract its martingale component, we only need to let $M_0=0$, and then\n",
    "\n",
    "$$M_{n+1}-M_n=U_{n+1}-\\mathbb{E}\\left[U_{n+1}\\big|\\mathcal{F}_n\\right],\\quad n=0,1,\\cdots.$$"
   ]
  },
  {
   "cell_type": "markdown",
   "metadata": {},
   "source": [
    "As a demonstration, we show below the code that calculates the upper bound estimate of the price of Bermudan put with monthly exercises as in Question 1.1. The optimal exercise frontier is given for each exercise date (from a PDE solver), i.e. if the underlying price falls below Bs[i] at time ts[i], then we should exercise the option, otherwise we should continue."
   ]
  },
  {
   "cell_type": "code",
   "execution_count": 5,
   "metadata": {},
   "outputs": [],
   "source": [
    "Bs = np.array([87.5297, 87.7804, 88.0589, 88.3694, 88.724, 89.1309, 89.6067, 90.1723, 90.8653, 91.7451, 92.956, 94.8524, 100])\n",
    "\n",
    "def exer_or_cont(i, S):\n",
    "    return S <= Bs[i]"
   ]
  },
  {
   "cell_type": "code",
   "execution_count": 6,
   "metadata": {},
   "outputs": [
    {
     "name": "stdout",
     "output_type": "stream",
     "text": [
      "Primal Price (Lower Bound) = 5.1491\n",
      "Dual Price   (Upper Bound) = 5.1599\n"
     ]
    }
   ],
   "source": [
    "S0, K, vol, r, q = 100, 100, 0.2, 0.1, 0.02\n",
    "ts = np.linspace(0, 1, 13)\n",
    "exer_func = lambda S: np.maximum(K-S, 0)\n",
    "\n",
    "# nested simulation from time t_i when stock price is S\n",
    "def nested_mc(S, vol, r, q, i, ts, nnested):\n",
    "    nested_paths = np.full(nnested, S, dtype=np.float)\n",
    "    tot_payoff = 0\n",
    "    for j in range(i+1, len(ts)):\n",
    "        dt = ts[j] - ts[j-1]\n",
    "        dW = np.random.randn(len(nested_paths))*np.sqrt(dt)        # Brownian increment\n",
    "        nested_paths = nested_paths*np.exp((r-q)*dt)*np.exp(-0.5*vol**2*dt + vol*dW)\n",
    "        exer_vals =  exer_func(nested_paths)\n",
    "        if j < len(ts)-1:\n",
    "            ind = exer_or_cont(j, nested_paths)                    # identify the paths that need exercise\n",
    "            tot_payoff += np.sum(exer_vals[ind])*np.exp(-r*ts[j])\n",
    "            nested_paths = nested_paths[~ind]                      # remove exercised paths \n",
    "            if len(nested_paths) == 0:                             # if exercised for all paths, stop\n",
    "                break\n",
    "        else:\n",
    "            tot_payoff +=  np.sum(exer_vals)*np.exp(-r*ts[j])\n",
    "    return tot_payoff/nnested                                      # taking average of paths\n",
    "\n",
    "# Simulate independent paths and exercise the option acoording to this strategy\n",
    "V0 = nested_mc(S0, vol, r, q, 0, ts, 1000000)\n",
    "\n",
    "# Upper bound by Andersen-Broadie algorithm\n",
    "npaths = 500                                                       # number of paths in the second independent run\n",
    "nnested = 1000                                                     # number of paths used in nested simulation\n",
    "paths = blackscholes_mc(S=S0, vol=vol, r=r, q=q, ts=ts, npaths=npaths)\n",
    "V = np.full(paths.shape, np.nan, dtype=np.float)                   # discounted value process V_i (discounted to time zero)\n",
    "EV = np.full(paths.shape, np.nan, dtype=np.float)                  # Conditional expectation E[V_{i+1}|F_i], or continuation value\n",
    "#V[0] = V0                                                          # Initial value from lower bound simulation\n",
    "EV[0] = V0                                                         # at time 0, option value = continuation value\n",
    "for i in range(1, len(ts)-1):\n",
    "    exer_vals =  exer_func(paths[i])          \n",
    "    ind = exer_or_cont(i, paths[i])                                # True for exercise False for continue\n",
    "    for j in np.nonzero(ind)[0]:\n",
    "        V[i, j] = exer_vals[j]*np.exp(-r*ts[i])                    # if exercised, V[i,j] = exercise value\n",
    "        EV[i,j] = nested_mc(paths[i, j], vol, r, q, i, ts, nnested) # launch nested simulation to estimate E[V_{i+1}|F_i]\n",
    "    for j in np.nonzero(~ind)[0]:\n",
    "        V[i,j] = nested_mc(paths[i, j], vol, r, q, i, ts, nnested)  # if continue, use nested simulation to estimate V[i, j]\n",
    "        EV[i, j] = V[i, j]                                         # E[V_{i+1}|F_i] = V_i\n",
    "V[-1] = exer_func(paths[-1])*np.exp(-r*ts[-1])                     # values at final maturity\n",
    "hedges = np.zeros(paths.shape, dtype=np.float)\n",
    "hedges[1:] = np.cumsum(V[1:]-EV[:-1], axis=0)                      # martinglae increment V_{i+1}-E[V_{i+1}|F_i]\n",
    "\n",
    "print('Primal Price (Lower Bound) = {:.4f}'.format(V0))\n",
    "print('Dual Price   (Upper Bound) = {:.4f}'.format(np.mean(np.amax(exer_func(paths[1:])*np.exp(-r*ts[1:, np.newaxis])-hedges[1:], axis=0))))"
   ]
  },
  {
   "cell_type": "markdown",
   "metadata": {},
   "source": [
    "Since the strategy is optimal, we see that both lower bound and upper bound prices converge to the true value. \n",
    "\n",
    "However, in general, we may only get a sub-optimal strategy (e.g. from Longstaff-Schwartz algorithm). But with this sub-optimal strategy, we can build the (discounted) value process and then extract its martingale component to obtain an upper bound. Intuitively speaking, the closer this sub-optimal strategy is to the optimal one, the tighter the corresponding upper bound."
   ]
  },
  {
   "cell_type": "markdown",
   "metadata": {},
   "source": [
    "<b style=\"color:darkorange\">Question 2.</b> Consider pricing the Bermudan put option as in Question 1.1 by using the constant $1.0$ and the Black-Scholes price of a European put option with volatility $0.2$ and maturity $T-t_n$ as the two basis functions at time $t_n$. Use the Longstaff-Schwartz algorithm to build an exercise strategy with these basis functions and then compute the corresponding upper bound.\n",
    "\n",
    "For your convenience, an implementation of Longstaff-Schwartz algorithm is included in the cell below. It computes the regression coefficients at each exercise date."
   ]
  },
  {
   "cell_type": "code",
   "execution_count": 7,
   "metadata": {
    "collapsed": true
   },
   "outputs": [],
   "source": [
    "S0, K, vol, r, q = 100, 100, 0.2, 0.1, 0.02\n",
    "ts = np.linspace(0, 1, 13)\n",
    "\n",
    "npaths = 10000\n",
    "paths = blackscholes_mc(S=S0, vol=vol, r=r, q=q, ts=ts, npaths=npaths)\n",
    "betas_LS = np.full((len(ts), 2), np.nan, dtype=np.float)\n",
    "payoff = np.maximum(K-paths[-1], 0)\n",
    "for i in range(len(ts)-2, 0, -1):\n",
    "    discount = np.exp(-r*(ts[i+1]-ts[i]))\n",
    "    payoff = payoff*discount\n",
    "    Z = blackscholes_price(K, ts[-1]-ts[i], paths[i], vol, r, q, callput='put')\n",
    "    A = np.vstack((np.ones_like(Z), Z)).T\n",
    "    betas_LS[i] = np.linalg.lstsq(A, payoff, rcond=None)[0]    # regression to estimate continuation values\n",
    "    contval = betas_LS[i, 0]+betas_LS[i, 1]*Z\n",
    "    exerval = np.maximum(K-paths[i], 0)\n",
    "    # identify the paths where we should exercise\n",
    "    ind = exerval > contval\n",
    "    payoff[ind] = exerval[ind]                     # update payoff on exercised paths\n",
    "#betas_LS                                           # No regression needed at first and last time steps, return NaN"
   ]
  },
  {
   "cell_type": "markdown",
   "metadata": {},
   "source": [
    "#### Question 2"
   ]
  },
  {
   "cell_type": "code",
   "execution_count": 8,
   "metadata": {},
   "outputs": [
    {
     "data": {
      "text/plain": [
       "5.17050081558056"
      ]
     },
     "execution_count": 8,
     "metadata": {},
     "output_type": "execute_result"
    }
   ],
   "source": [
    "S = 100\n",
    "vol = 0.2\n",
    "r = 0.1\n",
    "q = 0.02\n",
    "K = 100\n",
    "T = 1\n",
    "ts = np.linspace(0, 1, 13)\n",
    "nnested = 500 \n",
    "\n",
    "#modify nested MC function for use with LS algorithm and with basis functions\n",
    "def nested_mc_LS(S, vol, r, q, i, ts, nnested):\n",
    "    nested_paths = np.full(nnested, S, dtype=np.float)\n",
    "    tot_payoff = 0\n",
    "    for j in range(i+1, len(ts)):\n",
    "        dt = ts[j] - ts[j-1]\n",
    "        dW = np.random.randn(len(nested_paths))*np.sqrt(dt)        # Brownian increment\n",
    "        nested_paths = nested_paths*np.exp((r-q)*dt)*np.exp(-0.5*vol**2*dt + vol*dW)\n",
    "        exer_vals =  exer_func(nested_paths)\n",
    "        if j < len(ts)-1:\n",
    "            cont_vals = 1 * betas_LS[j][0] +  betas_LS[j][1] * blackscholes_price(K, T - ts[j],nested_paths , vol=0.2, r=0.1, q=0.02, callput='put')\n",
    "            ind = cont_vals <= exer_vals\n",
    "            tot_payoff += np.sum(exer_vals[ind])*np.exp(-r*ts[j])\n",
    "            nested_paths = nested_paths[~ind]                      \n",
    "            if len(nested_paths) == 0:                             \n",
    "                break\n",
    "        else:\n",
    "            tot_payoff +=  np.sum(exer_vals)*np.exp(-r*ts[j])\n",
    "    return tot_payoff/nnested                                      # taking average of paths\n",
    "\n",
    "#generate 100000 independent paths\n",
    "paths = blackscholes_mc(S, vol, r, q, ts=ts, npaths=5000)\n",
    "\n",
    "#Andersen-Broadie algorithm similar to demonstration                                                    \n",
    "V = np.full(paths.shape, np.nan, dtype=np.float)                   \n",
    "EV = np.full(paths.shape, np.nan, dtype=np.float)                                                    \n",
    "\n",
    "#calculate first conditional expectation                                                     \n",
    "EV[0] = nested_mc_LS(S0, vol, r, q, 0, ts, 1000000)      \n",
    "\n",
    "for i in range(1, len(ts)-1):\n",
    "    exer_vals =  exer_func(paths[i])          \n",
    "    cont_vals = 1 * betas_LS[i][0] +  betas_LS[i][1] * blackscholes_price(K, T - ts[i],paths[i] , vol=0.2, r=0.1, q=0.02, callput='put')\n",
    "    ind = cont_vals <= exer_vals\n",
    "    \n",
    "    # True for exercise False for continue\n",
    "    for j in np.nonzero(ind)[0]:\n",
    "        V[i, j] = exer_vals[j]*np.exp(-r*ts[i])                    \n",
    "        EV[i,j] = nested_mc_LS(paths[i, j], vol, r, q, i, ts, nnested) \n",
    "    for j in np.nonzero(~ind)[0]:\n",
    "        V[i,j] = nested_mc_LS(paths[i, j], vol, r, q, i, ts, nnested)  \n",
    "        EV[i, j] = V[i, j]   \n",
    "\n",
    "#calculate final value of estimated snell envelope\n",
    "V[-1] = exer_func(paths[-1])*np.exp(-r*ts[-1])       \n",
    "\n",
    "#calculate the martingale\n",
    "hedges = np.zeros(paths.shape, dtype=np.float)\n",
    "hedges[1:] = np.cumsum(V[1:]-EV[:-1], axis=0)               \n",
    "\n",
    "#calculate discounted payoff less the martingale, find the max on each path, then average\n",
    "np.mean(np.amax(((exer_func(paths[1:])*np.exp(-r*ts[1:, np.newaxis]))-hedges[1:]), axis=0))"
   ]
  },
  {
   "cell_type": "markdown",
   "metadata": {},
   "source": [
    "<b style=\"color:darkorange\">Question 3.</b> <b>(An alternative algorithm to estimate the upper bound)</b> The primal algorithm (Longstaff-Schwartz or Tsitsiklis-Van Roy) provides a function approximation (via regression) of the continuation value $C_n$ at $t_n$, hence of the value function $V_n = \\max(C_n,F_n)$ where $F_n$ is the exercise value. We can use this functional approximation of the value function to write an alternative algorithm in order to estimate the upper bound: at each time $t_n$, use the functional approximation of $V_n$, and run the nested simulation to estimate the conditional expectation $\\mathbb{E}\\left[V_{n+1}\\big|\\mathcal{F}_n\\right]$ (using the functional approximation of $V_{n+1}$). Note that this nested simulation only needs to be run for one time step.\n",
    "\n",
    "For the same Bermudan put option and same basis functions, use TVR algorithm to build the value process and then extract its martingale component using the alternative algorithm explained above to estimate the upper bound price.\n",
    "\n",
    "For your convenience, an implementation of TVR algorithm is included in the cell below. It computes the regression coefficients at each exercise date. "
   ]
  },
  {
   "cell_type": "code",
   "execution_count": 9,
   "metadata": {
    "collapsed": true
   },
   "outputs": [],
   "source": [
    "S0, K, vol, r, q = 100, 100, 0.2, 0.1, 0.02\n",
    "ts = np.linspace(0, 1, 13)\n",
    "\n",
    "npaths = 100000\n",
    "paths = blackscholes_mc(S=S0, vol=vol, r=r, q=q, ts=ts, npaths=npaths)\n",
    "betas_TVR = np.full((len(ts), 2), np.nan, dtype=np.float)\n",
    "V2 = np.maximum(K-paths[-1], 0)\n",
    "for i in range(len(ts)-2, 0, -1):\n",
    "    discount = np.exp(-r*(ts[i+1]-ts[i]))\n",
    "    Z = blackscholes_price(K, ts[-1]-ts[i], paths[i], vol, r, q, callput='put')\n",
    "    A = np.vstack((np.ones_like(Z), Z)).T\n",
    "    betas_TVR[i] = np.linalg.lstsq(A, V2*discount, rcond=None)[0]      # regression to estimate continuation values\n",
    "    contval = betas_TVR[i, 0]+betas_TVR[i, 1]*Z\n",
    "    exerval = np.maximum(K-paths[i], 0)\n",
    "    V2 = np.maximum(exerval, contval)                      # compute values\n",
    "#betas_TVR                                                 # No regression needed at first and last time steps, return NaN"
   ]
  },
  {
   "cell_type": "markdown",
   "metadata": {},
   "source": [
    "#### Question 3"
   ]
  },
  {
   "cell_type": "code",
   "execution_count": 10,
   "metadata": {},
   "outputs": [
    {
     "data": {
      "text/plain": [
       "5.172151158933239"
      ]
     },
     "execution_count": 10,
     "metadata": {},
     "output_type": "execute_result"
    }
   ],
   "source": [
    "S = 100\n",
    "vol = 0.2\n",
    "r = 0.1\n",
    "q = 0.02\n",
    "K = 100\n",
    "T = 1\n",
    "ts = np.linspace(0, 1, 13)\n",
    "nnested = 500\n",
    "\n",
    "#modify nested MC function for TVR and for running just one time step\n",
    "def nested_mc_TVR_1ts(S, vol, r, q, i, ts, nnested):\n",
    "    nested_paths = np.full(nnested, S, dtype=np.float)\n",
    "    dt = ts[i+1] - ts[i]\n",
    "    dW = np.random.randn(len(nested_paths))*np.sqrt(dt)   \n",
    "    nested_paths = nested_paths*np.exp((r-q)*dt)*np.exp(-0.5*vol**2*dt + vol*dW)\n",
    "    exer_vals =  exer_func(nested_paths)\n",
    "    if i == len(ts) - 2:\n",
    "        return np.mean(exer_vals)  * np.exp(-r * ts[i+1])\n",
    "    cont_vals = 1 * betas_TVR[i+1][0] +  betas_TVR[i+1][1] * blackscholes_price(K, T - ts[i+1],nested_paths , vol=0.2, r=0.1, q=0.02, callput='put')\n",
    "    return np.mean(np.maximum(exer_vals, cont_vals)) * np.exp(-r * ts[i+1])\n",
    "\n",
    "#generate 100000 independent paths\n",
    "paths = blackscholes_mc(S, vol, r, q, ts=ts, npaths=10000)\n",
    "\n",
    "#Andersen-Broadie algorithm similar to demonstration                                                    \n",
    "V = np.full(paths.shape, np.nan, dtype=np.float)                   \n",
    "EV = np.full(paths.shape, np.nan, dtype=np.float)                                                    \n",
    "\n",
    "#calculate first conditional expectation                                                     \n",
    "EV[0] = nested_mc_TVR_1ts(S0, vol, r, q, 0, ts, 1000000)      \n",
    "\n",
    "for i in range(1, len(ts)-1):\n",
    "    exer_vals =  exer_func(paths[i])          \n",
    "    cont_vals = (1 * betas_TVR[i][0]) +  (betas_TVR[i][1] * blackscholes_price(K, T - ts[i],paths[i] , vol=0.2, r=0.1, q=0.02, callput='put'))\n",
    "    V[i] = np.maximum(cont_vals, exer_vals) * np.exp(-r * ts[i])\n",
    "    for j in range(0, len(paths[i])):\n",
    "        EV[i,j] = nested_mc_TVR_1ts(paths[i,j], vol, r, q, i, ts, nnested) \n",
    "\n",
    "#calculate final value of estimated snell envelope\n",
    "V[-1] = exer_func(paths[-1])*np.exp(-r*ts[-1])       \n",
    "\n",
    "#calculate the martingale\n",
    "hedges = np.zeros(paths.shape, dtype=np.float)\n",
    "hedges[1:] = np.cumsum(V[1:]-EV[:-1], axis=0)               \n",
    "\n",
    "#calculate discounted payoff less the martingale, find the max on each path, then average\n",
    "np.mean(np.amax(((exer_func(paths[1:])*np.exp(-r*ts[1:, np.newaxis]))-hedges[1:]), axis=0))"
   ]
  },
  {
   "cell_type": "markdown",
   "metadata": {},
   "source": [
    "The upper bound estimator can be used to check if the basis functions used in regression are adequate. A tight duality gap between the lower bound and upper bound is a confirmation that the linear span of the selected basis functions indeed gives a good approximation to the continuation value. We now illustrate this with the pricing of Bermudan-Asian call options.\n",
    "\n",
    "<b style=\"color:darkorange\">Question 4</b> (<b>Bermudan-Asian Call Option</b>). In Question 2.5 of Homework I, we priced a Bermudan-Asian call option using a particular set of basis functions. Assume that all the parameters stay the same.\n",
    "\n",
    "<b>(a).</b> Reuse the exercise strategy derived from the basis functions used in Question 2.5 of Homework I by Longstaff-Schwartz with $\\bar{\\sigma}=0.1$ to estimate the lower and upper bound. For your convenience, an implementation of Longstaff-Schwartz is included in the cell below. Note that the lower bound should be obtained by running new independent paths stopped according to the strategy from the Longstaff-Schwartz algorithm.\n",
    "\n",
    "<b>(b).</b> As an alternative set of basis functions at time $t_n$, use \n",
    "$$1, A_{t_n}, S_{t_n}, A_{t_n}^2, S_{t_n}^2, A_{t_n}S_{t_n}.$$\n",
    "in the Longstaff-Schwartz algorithm and then give the corresponding lower bound and upper bound.\n",
    "\n",
    "<b>(c).</b> Compare the numerical duality gaps obtained from (a) and (b). Which set of basis functions does a better job at estimating the optimal exercise strategy?"
   ]
  },
  {
   "cell_type": "code",
   "execution_count": 11,
   "metadata": {
    "collapsed": true
   },
   "outputs": [],
   "source": [
    "# Longstaff-Schwartz\n",
    "S0, K, vol, r, q = 100, 100, 0.2, 0, 0\n",
    "ts = np.linspace(0, 1, 13)\n",
    "npaths = 100000\n",
    "pathsS = blackscholes_mc(S0, vol, r, q, ts=ts, npaths=npaths)                                  # stock prices\n",
    "pathsA = np.vstack((pathsS[0], np.cumsum(pathsS[1:], axis=0)/np.arange(1, 13)[:, np.newaxis])) # running averages\n",
    "vol_ = 0.1\n",
    "payoff = np.maximum(pathsA[-1]-K, 0)\n",
    "betas_AC = np.full((len(ts), 2), np.nan, dtype=np.float)\n",
    "for i in range(len(ts)-2, 0, -1):\n",
    "    discount = np.exp(-r*(ts[i+1]-ts[i]))\n",
    "    payoff = payoff*discount\n",
    "    Z = (i*pathsA[i]+(12-i)*pathsS[i])/12\n",
    "    callZ = blackscholes_price(K, ts[-1]-ts[i], Z, vol_, callput='call')\n",
    "    A = np.vstack((np.ones_like(Z), callZ)).T\n",
    "    betas_AC[i] = np.linalg.lstsq(A, payoff, rcond=None)[0]           # regression to estimate continuation values\n",
    "    contval = betas_AC[i, 0]+betas_AC[i, 1]*callZ\n",
    "    exerval = np.maximum(pathsA[i]-K, 0)\n",
    "    ind = exerval > contval                               # identify the paths where we should exercise\n",
    "    payoff[ind] = exerval[ind]\n",
    "#betas_AC"
   ]
  },
  {
   "cell_type": "markdown",
   "metadata": {},
   "source": [
    "#### Question 4a.)"
   ]
  },
  {
   "cell_type": "code",
   "execution_count": 12,
   "metadata": {
    "collapsed": true
   },
   "outputs": [],
   "source": [
    "S0, K, vol, r, q, vol_ = 100, 100, 0.2, 0, 0, 0.1\n",
    "ts = np.linspace(0, 1, 13)\n",
    "nnested = 500 \n",
    "\n",
    "#modify nested MC function for using running average stock price in the payoff rather than the current stock price\n",
    "def nested_mc_AC(S, vol, r, q, i, ts, nnested, Av):\n",
    "    nested_paths = np.full(nnested, S, dtype=np.float)\n",
    "    nested_Av = np.full(nnested, Av, dtype=np.float)\n",
    "    tot_payoff = 0\n",
    "    for j in range(i+1, len(ts)):\n",
    "        dt = ts[j] - ts[j-1]\n",
    "        dW = np.random.randn(len(nested_paths))*np.sqrt(dt)        # Brownian increment\n",
    "        nested_paths = nested_paths*np.exp((r-q)*dt)*np.exp(-0.5*vol**2*dt + vol*dW)\n",
    "        \n",
    "        nested_Av = (nested_paths + (nested_Av * (j-1))) / (j)\n",
    "        \n",
    "        exer_vals =  np.maximum(nested_Av - K, 0)\n",
    "        if j < len(ts)-1:\n",
    "            \n",
    "            Z = (j*nested_Av+(12-j)*nested_paths)/12\n",
    "            callZ = blackscholes_price(K, ts[-1]-ts[j], Z, vol_, callput='call')        \n",
    "            cont_vals = betas_AC[j, 0]+betas_AC[j, 1]*callZ\n",
    "            ind = cont_vals <= exer_vals\n",
    "            tot_payoff += np.sum(exer_vals[ind])*np.exp(-r*ts[j])\n",
    "            nested_paths = nested_paths[~ind]\n",
    "            nested_Av = nested_Av[~ind]\n",
    "            if len(nested_paths) == 0:                             \n",
    "                break\n",
    "        else:\n",
    "            tot_payoff +=  np.sum(exer_vals)*np.exp(-r*ts[j])\n",
    "    return tot_payoff/nnested                                      # taking average of paths"
   ]
  },
  {
   "cell_type": "code",
   "execution_count": 13,
   "metadata": {},
   "outputs": [
    {
     "name": "stdout",
     "output_type": "stream",
     "text": [
      "Lower Bound LS Value = 5.310781521752294\n",
      "Upper Bound LS Value = 5.404012461040336\n"
     ]
    }
   ],
   "source": [
    "#generate 10000 independent paths\n",
    "pathsS = blackscholes_mc(S0, vol, r, q, ts=ts, npaths=1000)                             \n",
    "pathsA = np.vstack((pathsS[0], np.cumsum(pathsS[1:], axis=0)/np.arange(1, 13)[:, np.newaxis]))\n",
    "\n",
    "#Andersen-Broadie algorithm similar to demonstration                                                    \n",
    "V = np.full(pathsS.shape, np.nan, dtype=np.float)                   \n",
    "EV = np.full(pathsS.shape, np.nan, dtype=np.float)                                                    \n",
    "\n",
    "#calculate first conditional expectation                                                     \n",
    "EV[0] = nested_mc_AC(S0, vol, r, q, 0, ts, 1000000,0)      \n",
    "\n",
    "for i in range(1, len(ts)-1):\n",
    "    Z = (i*pathsA[i]+(12-i)*pathsS[i])/12\n",
    "    callZ = blackscholes_price(K, ts[-1]-ts[i], Z, vol_, callput='call')        \n",
    "    cont_vals = betas_AC[i, 0]+betas_AC[i, 1]*callZ\n",
    "    exer_vals =  np.maximum(pathsA[i] - K, 0)\n",
    "    ind = cont_vals <= exer_vals\n",
    "    for j in np.nonzero(ind)[0]:\n",
    "        V[i, j] = exer_vals[j]*np.exp(-r*ts[i])                    \n",
    "        EV[i,j] = nested_mc_AC(pathsS[i, j], vol, r, q, i, ts, nnested, pathsA[i,j]) \n",
    "    for j in np.nonzero(~ind)[0]:\n",
    "        V[i,j] = nested_mc_AC(pathsS[i, j], vol, r, q, i, ts, nnested, pathsA[i,j])  \n",
    "        EV[i, j] = V[i, j]   \n",
    "\n",
    "#calculate final value of estimated snell envelope\n",
    "V[-1] = np.maximum(pathsA[-1] - K, 0)*np.exp(-r*ts[-1])       \n",
    "\n",
    "#calculate the martingale\n",
    "hedges = np.zeros(pathsS.shape, dtype=np.float)\n",
    "hedges[1:] = np.cumsum(V[1:]-EV[:-1], axis=0)               \n",
    "\n",
    "#calculate discounted payoff less the martingale, find the max on each path, then average\n",
    "LS_Value = np.mean(np.amax(((np.maximum(pathsA[1:] - K, 0)*np.exp(-r*ts[1:, np.newaxis]))-hedges[1:]), axis=0))\n",
    "\n",
    "print(\"Lower Bound LS Value = {}\".format(EV[0][0]))\n",
    "print(\"Upper Bound LS Value = {}\".format(LS_Value))"
   ]
  },
  {
   "cell_type": "markdown",
   "metadata": {},
   "source": [
    "#### Question 4b.)"
   ]
  },
  {
   "cell_type": "code",
   "execution_count": 14,
   "metadata": {},
   "outputs": [],
   "source": [
    "# Longstaff-Schwartz\n",
    "S0, K, vol, r, q = 100, 100, 0.2, 0, 0\n",
    "ts = np.linspace(0, 1, 13)\n",
    "npaths = 100000\n",
    "pathsS = blackscholes_mc(S0, vol, r, q, ts=ts, npaths=npaths)                                  # stock prices\n",
    "pathsA = np.vstack((pathsS[0], np.cumsum(pathsS[1:], axis=0)/np.arange(1, 13)[:, np.newaxis])) # running averages\n",
    "vol_ = 0.1\n",
    "payoff = np.maximum(pathsA[-1]-K, 0)\n",
    "betas_AC = np.full((len(ts), 6), np.nan, dtype=np.float)\n",
    "for i in range(len(ts)-2, 0, -1):\n",
    "    discount = np.exp(-r*(ts[i+1]-ts[i]))\n",
    "    payoff = payoff*discount\n",
    "    A = np.vstack((np.ones_like(pathsA[i]), pathsA[i], pathsS[i], pathsA[i] * pathsA[i], pathsS[i]*pathsS[i], pathsA[i]*pathsS[i])).T\n",
    "    betas_AC[i] = np.linalg.lstsq(A, payoff, rcond=None)[0]           # regression to estimate continuation values\n",
    "    contval = betas_AC[i, 0]+betas_AC[i, 1]*pathsA[i] +betas_AC[i, 2]* pathsS[i] +betas_AC[i, 3]* pathsA[i] * pathsA[i] + betas_AC[i, 4] * pathsS[i]*pathsS[i] + betas_AC[i, 5] * pathsA[i]*pathsS[i]\n",
    "    exerval = np.maximum(pathsA[i]-K, 0)\n",
    "    ind = exerval > contval                               # identify the paths where we should exercise\n",
    "    payoff[ind] = exerval[ind]\n",
    "#betas_AC"
   ]
  },
  {
   "cell_type": "code",
   "execution_count": 15,
   "metadata": {},
   "outputs": [
    {
     "name": "stdout",
     "output_type": "stream",
     "text": [
      "Lower Bound LS Value = 5.074362545769435\n",
      "Upper Bound LS Value = 5.467038273138654\n"
     ]
    }
   ],
   "source": [
    "S0, K, vol, r, q, vol_ = 100, 100, 0.2, 0, 0, 0.1\n",
    "ts = np.linspace(0, 1, 13)\n",
    "nnested = 500 \n",
    "\n",
    "# nested simulation from time t_i when stock price is S\n",
    "def nested_mc_AC(S, vol, r, q, i, ts, nnested, Av):\n",
    "    nested_paths = np.full(nnested, S, dtype=np.float)\n",
    "    nested_Av = np.full(nnested, Av, dtype=np.float)\n",
    "    tot_payoff = 0\n",
    "    for j in range(i+1, len(ts)):\n",
    "        dt = ts[j] - ts[j-1]\n",
    "        dW = np.random.randn(len(nested_paths))*np.sqrt(dt)        # Brownian increment\n",
    "        nested_paths = nested_paths*np.exp((r-q)*dt)*np.exp(-0.5*vol**2*dt + vol*dW)\n",
    "        \n",
    "        nested_Av = (nested_paths + (nested_Av * (j-1))) / (j)\n",
    "        \n",
    "        exer_vals =  np.maximum(nested_Av - K, 0)\n",
    "        if j < len(ts)-1:\n",
    "                  \n",
    "            cont_vals = betas_AC[j, 0]+betas_AC[j, 1]*nested_Av +betas_AC[j, 2]* nested_paths +betas_AC[j, 3]* nested_Av * nested_Av + betas_AC[j, 4] * nested_paths *nested_paths + betas_AC[j, 5] * nested_Av*nested_paths \n",
    "\n",
    "            ind = cont_vals <= exer_vals\n",
    "            tot_payoff += np.sum(exer_vals[ind])*np.exp(-r*ts[j])\n",
    "            nested_paths = nested_paths[~ind]\n",
    "            nested_Av = nested_Av[~ind]\n",
    "            if len(nested_paths) == 0:                             \n",
    "                break\n",
    "        else:\n",
    "            tot_payoff +=  np.sum(exer_vals)*np.exp(-r*ts[j])\n",
    "    return tot_payoff/nnested                                      # taking average of paths\n",
    "\n",
    "#generate 100000 independent paths\n",
    "pathsS = blackscholes_mc(S0, vol, r, q, ts=ts, npaths=1000)                             \n",
    "pathsA = np.vstack((pathsS[0], np.cumsum(pathsS[1:], axis=0)/np.arange(1, 13)[:, np.newaxis]))\n",
    "\n",
    "#Andersen-Broadie algorithm similar to demonstration                                                    \n",
    "V = np.full(pathsS.shape, np.nan, dtype=np.float)                   \n",
    "EV = np.full(pathsS.shape, np.nan, dtype=np.float)                                                    \n",
    "\n",
    "#calculate first conditional expectation                                                     \n",
    "EV[0] = nested_mc_AC(S0, vol, r, q, 0, ts, 100000,0)      \n",
    "\n",
    "for i in range(1, len(ts)-1):     \n",
    "    cont_vals =betas_AC[i, 0]+betas_AC[i, 1]*pathsA[i] +betas_AC[i, 2]* pathsS[i] +betas_AC[i, 3]* pathsA[i] * pathsA[i] + betas_AC[i, 4] * pathsS[i]*pathsS[i] + betas_AC[i, 5] * pathsA[i]*pathsS[i]\n",
    "    exer_vals =  np.maximum(pathsA[i] - K, 0)\n",
    "    ind = cont_vals <= exer_vals\n",
    "    for j in np.nonzero(ind)[0]:\n",
    "        V[i, j] = exer_vals[j]*np.exp(-r*ts[i])                    \n",
    "        EV[i,j] = nested_mc_AC(pathsS[i, j], vol, r, q, i, ts, nnested, pathsA[i,j]) \n",
    "    for j in np.nonzero(~ind)[0]:\n",
    "        V[i,j] = nested_mc_AC(pathsS[i, j], vol, r, q, i, ts, nnested, pathsA[i,j])  \n",
    "        EV[i, j] = V[i, j]   \n",
    "\n",
    "#calculate final value of estimated snell envelope\n",
    "V[-1] = np.maximum(pathsA[-1] - K, 0)*np.exp(-r*ts[-1])       \n",
    "\n",
    "#calculate the martingale\n",
    "hedges = np.zeros(pathsS.shape, dtype=np.float)\n",
    "hedges[1:] = np.cumsum(V[1:]-EV[:-1], axis=0)               \n",
    "\n",
    "#calculate discounted payoff less the martingale, find the max on each path, then average\n",
    "LS_value = np.mean(np.amax(((np.maximum(pathsA[1:] - K, 0)*np.exp(-r*ts[1:, np.newaxis]))-hedges[1:]), axis=0))\n",
    "\n",
    "print(\"Lower Bound LS Value = {}\".format(EV[0][0]))\n",
    "print(\"Upper Bound LS Value = {}\".format(LS_value))"
   ]
  },
  {
   "cell_type": "markdown",
   "metadata": {
    "collapsed": true
   },
   "source": [
    "#### Question 4c.)"
   ]
  },
  {
   "cell_type": "markdown",
   "metadata": {},
   "source": [
    "The duality gap in 4a.) using the BS functions from Homework 1 was relatively small, and usually around .08 USD. This indicates that the dual method and the primal methods are both accurate enough that they are converging towards the 'true' option price, rather than one presenting a very high upper bound and the other presenting a very low lower bound. \n",
    "\n",
    "The duality gap in 4b.) using the various products and sums of $A_{t_n}$ and $S_{t_n}$ had a much larger duality gap. This was mostly stemming from the lower bound estimate, as the upper bound estimate was similar to the low-biased estimate from Homework 1 and the upper bound estimate from 4a.) The gap was usually around .4 USD and therefore the basis functions aren't accurate enough to perform useful estimates of the conditional expectations in the primal method. \n",
    "\n",
    "I thought that it made sense for the BS functions to perform better than the products and sums of $A_{t_n}$ and $S_{t_n}$ since they are able to perform crude 'approximations' to American option prices. So when they are used in regression their outputs are always sensible, but when regression is used with just a linear combination of variables, the meaning of the variables and therefore the estimates are not always in line with the option pricing framework. "
   ]
  }
 ],
 "metadata": {
  "anaconda-cloud": {},
  "celltoolbar": "Raw Cell Format",
  "kernelspec": {
   "display_name": "Python 3",
   "language": "python",
   "name": "python3"
  },
  "language_info": {
   "codemirror_mode": {
    "name": "ipython",
    "version": 3
   },
   "file_extension": ".py",
   "mimetype": "text/x-python",
   "name": "python",
   "nbconvert_exporter": "python",
   "pygments_lexer": "ipython3",
   "version": "3.6.1"
  }
 },
 "nbformat": 4,
 "nbformat_minor": 1
}
