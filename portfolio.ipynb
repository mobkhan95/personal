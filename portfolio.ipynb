{
 "cells": [
  {
   "cell_type": "code",
   "execution_count": 2,
   "metadata": {
    "ExecuteTime": {
     "end_time": "2019-05-11T01:11:28.938128Z",
     "start_time": "2019-05-11T01:11:27.627523Z"
    },
    "collapsed": true
   },
   "outputs": [],
   "source": [
    "#imports\n",
    "import numpy as np\n",
    "import pandas as pd\n",
    "import pandas_datareader as web\n",
    "import matplotlib.pyplot as plt\n",
    "import datetime\n",
    "\n",
    "from scipy.stats import truncnorm\n",
    "def get_truncated_normal(mean=0, sd=1, low=0, upp=10):\n",
    "    return truncnorm(\n",
    "        (low - mean) / sd, (upp - mean) / sd, loc=mean, scale=sd).rvs()"
   ]
  },
  {
   "cell_type": "code",
   "execution_count": 3,
   "metadata": {
    "ExecuteTime": {
     "end_time": "2019-05-11T01:11:31.123203Z",
     "start_time": "2019-05-11T01:11:31.101411Z"
    },
    "collapsed": true
   },
   "outputs": [],
   "source": [
    "##################################################################################################\n",
    "#####################Calculation for Market Order Price Improvement###############################\n",
    "##################################################################################################\n",
    "#using average statistics from a broker, Virtu Americas, these are the execution prices and times\n",
    "#execution prices and times depend on the price improvement possible, and this depends on order size\n",
    "def market(ordersize, buy, price):\n",
    "    #print(ordersize,buy,price)\n",
    "    if 0 <= ordersize <= 99.0:\n",
    "        price_improvement = (.38/26.0)\n",
    "    if 99.0 < ordersize <= 499:\n",
    "        price_improvement = (2.70/196.0)\n",
    "    if 499< ordersize <= 1999:\n",
    "        price_improvement = (7.17/852)\n",
    "    if 1999 < ordersize <= 4999:\n",
    "        price_improvement = (10.01/2731)\n",
    "    if 4999 < ordersize:\n",
    "        price_improvement = (5.98/6232) \n",
    "    price_improvement = price_improvement * get_truncated_normal(0.5, np.sqrt(0.5), 0,1)\n",
    "    if buy:\n",
    "        execprice = price - price_improvement\n",
    "    else:\n",
    "        execprice = price + price_improvement     \n",
    "    return round(execprice,4)"
   ]
  },
  {
   "cell_type": "code",
   "execution_count": 4,
   "metadata": {
    "ExecuteTime": {
     "end_time": "2019-05-11T01:11:32.180491Z",
     "start_time": "2019-05-11T01:11:32.151962Z"
    },
    "collapsed": true
   },
   "outputs": [],
   "source": [
    "##################################################################################################\n",
    "#####################Calculation for Total Price (per share)######################################\n",
    "##################################################################################################\n",
    "#check if the desired order adds or removes liquidity\n",
    "#execution time will be considered instant for marketable orders that are not market orders\n",
    "#execution price and time for market orders and non-marketable orders are calculated using functions\n",
    "#execution time is in milliseconds\n",
    "#using this syntax, a limit price input of 0 indicates a market order\n",
    "def CostCalc(price,ordervalue):  \n",
    "    if ordervalue >= 0:\n",
    "        buy = True\n",
    "        sign = 1.0\n",
    "    if ordervalue < 0:\n",
    "        buy = False\n",
    "        sign = -1.0\n",
    "    ordersize = np.abs(ordervalue)/price\n",
    "    execprice = market(ordersize, buy, price)               \n",
    "    if buy:\n",
    "        totalprice = execprice + 0.1\n",
    "    else:\n",
    "        totalprice = execprice - 0.1\n",
    "    if ordervalue ==0:\n",
    "        totalprice = 0\n",
    "        sign = 0\n",
    "    return (sign*totalprice * ordersize, ordersize,ordervalue)\n",
    "CostCalc_v = np.vectorize(CostCalc)"
   ]
  },
  {
   "cell_type": "code",
   "execution_count": 5,
   "metadata": {
    "ExecuteTime": {
     "end_time": "2019-05-11T01:11:42.284846Z",
     "start_time": "2019-05-11T01:11:33.322707Z"
    },
    "collapsed": true,
    "hide_input": false
   },
   "outputs": [],
   "source": [
    "stocks = ['IWD', 'IWF', 'IWN', 'IWO', 'SPAB','PFOAX','WIP',  'TFI', 'JNK', 'EWX', 'ADRE', 'IEV', 'IEUS']\n",
    "\n",
    "#date range for data\n",
    "start_date = datetime.datetime(2007,3,29)\n",
    "end_date = datetime.datetime(2019,3,29)\n",
    "\n",
    "#import data for the given ticker, ^GSPC, in this case\n",
    "df = web.DataReader(stocks,data_source='yahoo',start=start_date,end=end_date) \n",
    "\n",
    "#format and clean up the data\n",
    "df = df.drop(['Open', 'High', 'Low', 'Adj Close', 'Volume'], axis = 1)\n",
    "df.columns = df.columns.droplevel('Attributes')"
   ]
  },
  {
   "cell_type": "code",
   "execution_count": 47,
   "metadata": {
    "ExecuteTime": {
     "end_time": "2019-05-11T03:23:47.526694Z",
     "start_time": "2019-05-11T03:23:46.061780Z"
    },
    "collapsed": true,
    "hide_input": false
   },
   "outputs": [],
   "source": [
    "df1 = pd.read_excel('/home/terminal_1/Downloads/Data_for_projects.xlsx', 'Sheet1', header=None)\n",
    "listofdates = []\n",
    "for i in df1[0]:\n",
    "    val = datetime.datetime.strptime(str(i), \"%Y%m%d\") \n",
    "    listofdates.append(val)\n",
    "listofdates = pd.DatetimeIndex(listofdates)\n",
    "df_ = df.loc[listofdates]\n",
    "weights = df_.copy()\n",
    "\n",
    "risk = pd.read_excel('/home/terminal_1/Downloads/DTB6.xls', header=None )\n",
    "risk.columns = [\"Dates\", \"Rates\"]\n",
    "risk.dropna(inplace=True)\n",
    "risk.index = risk[\"Dates\"]\n",
    "risk[\"Rates\"] = risk[\"Rates\"] / 100.0\n",
    "risk.drop(inplace = True, columns = \"Dates\")\n",
    "riskfree = risk.loc[listofdates]\n",
    "\n",
    "cpi = pd.read_excel('/home/terminal_1/Downloads/Monthly_Inflation_Rate.xlsx')\n",
    "cpi.dropna(inplace=True)\n",
    "cpi.index = cpi[\"Date\"]\n",
    "cpi.drop(inplace = True, columns = \"Date\")\n",
    "cpirate = ((cpi.max(axis = 0) + cpi.mean(axis = 0)) /2.0)[0] \n",
    "\n",
    "for row in range(0,len(weights.index)):\n",
    "    weights.iloc[row,:] = list((1/(len(df_.columns) - df_.isnull().sum(axis=1))))[row]\n",
    "\n",
    "weights[df_.isnull()] = 0\n",
    "weights.iloc[0] = 0\n",
    "returns = df_.pct_change(-1,axis='rows')\n",
    "returns[\"Risk_free\"] = (((riskfree -(cpirate))/12.0)) - 1\n",
    "df_ = df_.fillna(np.inf)\n",
    "\n",
    "def posttransaction(rowidx, portfolioval, portfolio):\n",
    "    desired_vals = weights.iloc[rowidx,:] * portfolioval\n",
    "    current_vals = portfolio[:-1]\n",
    "    transactions = desired_vals - current_vals\n",
    "    vec = CostCalc_v(df_.iloc[rowidx,:],transactions)\n",
    "    debt = np.sum(vec[2]) - np.sum(vec[0])\n",
    "    transactions_matrix.iloc[rowidx] = np.append(transactions,debt)\n",
    "    return np.append(desired_vals,debt)"
   ]
  },
  {
   "cell_type": "code",
   "execution_count": 48,
   "metadata": {
    "ExecuteTime": {
     "end_time": "2019-05-11T03:23:48.391666Z",
     "start_time": "2019-05-11T03:23:48.347177Z"
    },
    "collapsed": true
   },
   "outputs": [],
   "source": [
    "listofwts = [0.019996752, 0.003534921, 0.016114844, 0.134314782, 0.14090866, 0.138093262, 0.013524113 ,0.013081445 ,0.019657952, 0.278427152, 0.181614136, 0.020080302, 0.020651677]\n",
    "for i in range(1,131):\n",
    "    weights.iloc[i] = listofwts"
   ]
  },
  {
   "cell_type": "code",
   "execution_count": 49,
   "metadata": {
    "ExecuteTime": {
     "end_time": "2019-05-11T03:23:56.030406Z",
     "start_time": "2019-05-11T03:23:54.028084Z"
    },
    "collapsed": true
   },
   "outputs": [],
   "source": [
    "initial = 210000\n",
    "portfolio = returns.copy()\n",
    "transactions_matrix = returns.copy()\n",
    "transactions_matrix.iloc[0] = 0.0\n",
    "portfolio_val_after_a_month = initial\n",
    "portfolio_after_a_month = np.zeros_like(np.append(weights.iloc[0,:],0))\n",
    "#on each day/index calculates the portfolio val for the next period, a month later\n",
    "for row in range(len(df_.index)-1,0,-1):\n",
    "    portfolio_post_trans = posttransaction(row,portfolio_val_after_a_month, portfolio_after_a_month)\n",
    "    if row == len(df_.index)-1:\n",
    "        portfolio.iloc[row] = portfolio_post_trans\n",
    "    portfolio_after_a_month = portfolio_post_trans * (1+returns.iloc[row-1])\n",
    "    portfolio.iloc[row-1] = portfolio_after_a_month\n",
    "    portfolio_val_after_a_month = np.sum(portfolio_after_a_month)\n",
    "    if (row-1)%12 == 0:\n",
    "        portfolio_val_after_a_month = portfolio_val_after_a_month - ((2000.0/12.0) + 200.0)\n",
    "    if (row-1)%48 == 0:\n",
    "        portfolio_val_after_a_month = portfolio_val_after_a_month - 20000\n",
    "    \n",
    "portfolio[\"Portfolio Value\"] = portfolio.sum(axis=1)"
   ]
  },
  {
   "cell_type": "markdown",
   "metadata": {},
   "source": [
    "https://www.nasdaqtrader.com/Trader.aspx?id=PriceListTrading2#route  \n",
    "http://www.nasdaqtrader.com/Trader.aspx?id=DPUSdata  \n",
    "http://www.nasdaqtrader.com/content/marketregulation/membership/NASDAQSROMembershipApplicationFinal.pdf"
   ]
  },
  {
   "cell_type": "code",
   "execution_count": 44,
   "metadata": {
    "ExecuteTime": {
     "end_time": "2019-05-11T02:45:18.581309Z",
     "start_time": "2019-05-11T02:45:18.372151Z"
    },
    "collapsed": true
   },
   "outputs": [],
   "source": [
    "weights.to_excel('weights.xlsx')\n",
    "portfolio.to_excel('portfolio.xlsx')\n",
    "transactions_matrix.to_excel('transactions.xlsx')"
   ]
  },
  {
   "cell_type": "code",
   "execution_count": null,
   "metadata": {
    "collapsed": true
   },
   "outputs": [],
   "source": []
  }
 ],
 "metadata": {
  "kernelspec": {
   "display_name": "Python 3",
   "language": "python",
   "name": "python3"
  },
  "language_info": {
   "codemirror_mode": {
    "name": "ipython",
    "version": 3
   },
   "file_extension": ".py",
   "mimetype": "text/x-python",
   "name": "python",
   "nbconvert_exporter": "python",
   "pygments_lexer": "ipython3",
   "version": "3.6.7"
  },
  "toc": {
   "base_numbering": 1,
   "nav_menu": {},
   "number_sections": true,
   "sideBar": true,
   "skip_h1_title": false,
   "title_cell": "Table of Contents",
   "title_sidebar": "Contents",
   "toc_cell": false,
   "toc_position": {},
   "toc_section_display": true,
   "toc_window_display": false
  }
 },
 "nbformat": 4,
 "nbformat_minor": 2
}
